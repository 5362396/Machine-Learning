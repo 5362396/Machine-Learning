{
 "cells": [
  {
   "metadata": {},
   "cell_type": "markdown",
   "source": "# Importowanie niezbędnych bibliotek",
   "id": "470e321da4d1c81a"
  },
  {
   "cell_type": "code",
   "id": "initial_id",
   "metadata": {
    "collapsed": true,
    "ExecuteTime": {
     "end_time": "2025-06-12T16:07:37.167954Z",
     "start_time": "2025-06-12T16:07:36.296736Z"
    }
   },
   "source": [
    "import numpy as np\n",
    "import matplotlib.pyplot as plt\n",
    "import warnings\n",
    "from sklearn.model_selection import train_test_split\n",
    "\n",
    "warnings.filterwarnings('ignore')"
   ],
   "outputs": [],
   "execution_count": 1
  },
  {
   "metadata": {},
   "cell_type": "markdown",
   "source": "# Wczytanie danych, ustawienie rozmiaru obrazów na 64×64 i wyświetlenie przykładowych obrazów",
   "id": "41196b8a50130f4c"
  },
  {
   "metadata": {
    "ExecuteTime": {
     "end_time": "2025-06-12T16:07:37.281632Z",
     "start_time": "2025-06-12T16:07:37.167954Z"
    }
   },
   "cell_type": "code",
   "source": [
    "x_l = np.load('X.npy')\n",
    "y_l = np.load('Y.npy')\n",
    "img_size = 64\n",
    "plt.subplot(1, 2, 1)\n",
    "plt.imshow(x_l[260].reshape(img_size, img_size))\n",
    "plt.axis('off')\n",
    "plt.subplot(1, 2, 2)\n",
    "plt.imshow(x_l[900].reshape(img_size, img_size))\n",
    "plt.axis('off')"
   ],
   "id": "c4814450519a8bbd",
   "outputs": [
    {
     "data": {
      "text/plain": [
       "(np.float64(-0.5), np.float64(63.5), np.float64(63.5), np.float64(-0.5))"
      ]
     },
     "execution_count": 2,
     "metadata": {},
     "output_type": "execute_result"
    },
    {
     "data": {
      "text/plain": [
       "<Figure size 640x480 with 2 Axes>"
      ],
      "image/png": "[encoded data removed]"
     },
     "metadata": {},
     "output_type": "display_data"
    }
   ],
   "execution_count": 2
  },
  {
   "metadata": {},
   "cell_type": "markdown",
   "source": "# Połączenie wybranych zakresów obrazów w tablicę X, stworzenie wektora etykiet Y odpowiadającym klasom i wyświetlenie rozmiarów tablic",
   "id": "922e9763bfa06391"
  },
  {
   "metadata": {
    "ExecuteTime": {
     "end_time": "2025-06-12T16:07:37.323861Z",
     "start_time": "2025-06-12T16:07:37.281632Z"
    }
   },
   "cell_type": "code",
   "source": [
    "X = np.concatenate((x_l[204:409], x_l[822:1027]), axis=0)\n",
    "z = np.zeros(205)\n",
    "o = np.ones(205)\n",
    "Y = np.concatenate((z, o), axis=0).reshape(X.shape[0], 1)\n",
    "print('X shape:', X.shape)\n",
    "print('Y shape:', Y.shape)"
   ],
   "id": "9c0df1ca52852c81",
   "outputs": [
    {
     "name": "stdout",
     "output_type": "stream",
     "text": [
      "X shape: (410, 64, 64)\n",
      "Y shape: (410, 1)\n"
     ]
    }
   ],
   "execution_count": 3
  },
  {
   "metadata": {},
   "cell_type": "markdown",
   "source": "# Podzielenie danych na zestawy treningowy i testowy (15% test), spłaszczenie obrazów z wymiaru 64×64 do wektorów długości 4096 i wyświetlenie nowych rozmiarów tablic.",
   "id": "910c0be3bfa90ddc"
  },
  {
   "metadata": {
    "ExecuteTime": {
     "end_time": "2025-06-12T16:07:37.339604Z",
     "start_time": "2025-06-12T16:07:37.323861Z"
    }
   },
   "cell_type": "code",
   "source": [
    "X_train, X_test, Y_train, Y_test = train_test_split(X, Y, test_size=0.15, random_state=42)\n",
    "number_of_train = X_train.shape[0]\n",
    "number_of_test = X_test.shape[0]\n",
    "X_train_flatten = X_train.reshape(number_of_train, X_train.shape[1] * X_train.shape[2])\n",
    "X_test_flatten = X_test.reshape(number_of_test, X_test.shape[1] * X_test.shape[2])\n",
    "print('X_train flatten:', X_train_flatten.shape)\n",
    "print('X_test flatten:', X_test_flatten.shape)"
   ],
   "id": "6df18d9be43714ba",
   "outputs": [
    {
     "name": "stdout",
     "output_type": "stream",
     "text": [
      "X_train flatten: (348, 4096)\n",
      "X_test flatten: (62, 4096)\n"
     ]
    }
   ],
   "execution_count": 4
  },
  {
   "metadata": {},
   "cell_type": "markdown",
   "source": "# Transpozycja spłaszczonych danych, by kolumny odpowiadały próbom, i wyświetlenie rozmiarów tablic",
   "id": "9eae53b92775de8"
  },
  {
   "metadata": {
    "ExecuteTime": {
     "end_time": "2025-06-12T16:07:37.365902Z",
     "start_time": "2025-06-12T16:07:37.339604Z"
    }
   },
   "cell_type": "code",
   "source": [
    "x_train = X_train_flatten.T\n",
    "x_test = X_test_flatten.T\n",
    "y_train = Y_train.T\n",
    "y_test = Y_test.T\n",
    "print('x_train shape:', x_train.shape)\n",
    "print('x_test shape:', x_test.shape)\n",
    "print('y_train shape:', y_train.shape)\n",
    "print('y_test shape:', y_test.shape)"
   ],
   "id": "ac8aa000ce3992e4",
   "outputs": [
    {
     "name": "stdout",
     "output_type": "stream",
     "text": [
      "x_train shape: (4096, 348)\n",
      "x_test shape: (4096, 62)\n",
      "y_train shape: (1, 348)\n",
      "y_test shape: (1, 62)\n"
     ]
    }
   ],
   "execution_count": 5
  },
  {
   "metadata": {},
   "cell_type": "markdown",
   "source": "# Funkcja inicjalizującą parametry oraz wymiary warstw",
   "id": "166cf1230a64206b"
  },
  {
   "metadata": {
    "ExecuteTime": {
     "end_time": "2025-06-12T16:07:37.381503Z",
     "start_time": "2025-06-12T16:07:37.365902Z"
    }
   },
   "cell_type": "code",
   "source": [
    "def initialize_parameters_and_layer_sizes_NN(x_train, y_train):\n",
    "    parameters = {\n",
    "        'weight1': np.random.randn(3, x_train.shape[0]) * 0.1,\n",
    "        'bias1': np.zeros((3, 1)),\n",
    "        'weight2': np.random.randn(y_train.shape[0], 3) * 0.1,\n",
    "        'bias2': np.zeros((y_train.shape[0], 1))\n",
    "    }\n",
    "    return parameters"
   ],
   "id": "52c73334e8877250",
   "outputs": [],
   "execution_count": 6
  },
  {
   "metadata": {},
   "cell_type": "markdown",
   "source": "# Funkcja sigmoidalna służąca jako funkcja aktywacji w regresji logistycznej",
   "id": "e19fe204771434c5"
  },
  {
   "metadata": {
    "ExecuteTime": {
     "end_time": "2025-06-12T16:07:37.397109Z",
     "start_time": "2025-06-12T16:07:37.381503Z"
    }
   },
   "cell_type": "code",
   "source": [
    "def sigmoid(z):\n",
    "    y_head = 1 / (1 + np.exp(-z))\n",
    "    return y_head"
   ],
   "id": "64f4ec773d4364a5",
   "outputs": [],
   "execution_count": 7
  },
  {
   "metadata": {},
   "cell_type": "markdown",
   "source": "# Funkcja propagacji do przodu",
   "id": "255b28b96df42f70"
  },
  {
   "metadata": {
    "ExecuteTime": {
     "end_time": "2025-06-12T16:07:37.412731Z",
     "start_time": "2025-06-12T16:07:37.397109Z"
    }
   },
   "cell_type": "code",
   "source": [
    "def forward_propagation_NN(x_train, parameters):\n",
    "    Z1 = np.dot(parameters['weight1'], x_train) + parameters['bias1']\n",
    "    A1 = np.tanh(Z1)\n",
    "    Z2 = np.dot(parameters['weight2'], A1) + parameters['bias2']\n",
    "    A2 = sigmoid(Z2)\n",
    "    \n",
    "    cache = {\n",
    "        'Z1': Z1,\n",
    "        'A1': A1,\n",
    "        'Z2': Z2,\n",
    "        'A2': A2,\n",
    "    }\n",
    "    return A2, cache"
   ],
   "id": "8ad9af0a8a3bf920",
   "outputs": [],
   "execution_count": 8
  },
  {
   "metadata": {},
   "cell_type": "markdown",
   "source": "# Funkcja obliczająca średni koszt",
   "id": "8275e672bd2a0361"
  },
  {
   "metadata": {
    "ExecuteTime": {
     "end_time": "2025-06-12T16:07:37.428370Z",
     "start_time": "2025-06-12T16:07:37.412731Z"
    }
   },
   "cell_type": "code",
   "source": [
    "def compute_cost(A2, Y):\n",
    "    logprobs = np.multiply(np.log(A2), Y)\n",
    "    cost = -np.sum(logprobs) / Y.shape[1]\n",
    "    return cost"
   ],
   "id": "73142535e7c58c35",
   "outputs": [],
   "execution_count": 9
  },
  {
   "metadata": {},
   "cell_type": "markdown",
   "source": "# Funkcja propagacji wstecznej",
   "id": "44a5608da9de8170"
  },
  {
   "metadata": {
    "ExecuteTime": {
     "end_time": "2025-06-12T16:07:37.443977Z",
     "start_time": "2025-06-12T16:07:37.428370Z"
    }
   },
   "cell_type": "code",
   "source": [
    "def backward_propagation_NN(parameters, cache, X, Y):\n",
    "    dZ2 = cache['A2'] - Y\n",
    "    dW2 = np.dot(dZ2, cache['A1'].T) / X.shape[1]\n",
    "    db2 = np.sum(dZ2, axis=1, keepdims=True) / X.shape[1]\n",
    "    dZ1 = np.dot(parameters['weight2'].T, dZ2) * (1 - np.power(cache['A1'], 2))\n",
    "    dW1 = np.dot(dZ1, X.T) / X.shape[1]\n",
    "    db1 = np.sum(dZ1, axis=1, keepdims=True) / X.shape[1]\n",
    "    grads = {\n",
    "        'dweight1': dW1,\n",
    "        'dbias1': db1,\n",
    "        'dweight2': dW2,\n",
    "        'dbias2': db2,\n",
    "    }\n",
    "    return grads"
   ],
   "id": "4f58f5e84a3b62f6",
   "outputs": [],
   "execution_count": 10
  },
  {
   "metadata": {},
   "cell_type": "markdown",
   "source": "# Aktualizacja parametrów",
   "id": "d3cb4c51bce05300"
  },
  {
   "metadata": {
    "ExecuteTime": {
     "end_time": "2025-06-12T16:07:37.465801Z",
     "start_time": "2025-06-12T16:07:37.443977Z"
    }
   },
   "cell_type": "code",
   "source": [
    "def update_parameters_NN(parameters, grads, learning_rate = 0.01):\n",
    "    parameters = {\n",
    "        'weight1': parameters['weight1'] - learning_rate * grads['dweight1'],\n",
    "        'bias1': parameters['bias1'] - learning_rate * grads['dbias1'],\n",
    "        'weight2': parameters['weight2'] - learning_rate * grads['dweight2'],\n",
    "        'bias2': parameters['bias2'] - learning_rate * grads['dbias2'],\n",
    "    }\n",
    "    return parameters"
   ],
   "id": "3e7646b8008813b0",
   "outputs": [],
   "execution_count": 11
  },
  {
   "metadata": {},
   "cell_type": "markdown",
   "source": "# Obliczenie przewidywań",
   "id": "1b8eaaffdf3a8386"
  },
  {
   "metadata": {
    "ExecuteTime": {
     "end_time": "2025-06-12T16:07:37.481419Z",
     "start_time": "2025-06-12T16:07:37.465801Z"
    }
   },
   "cell_type": "code",
   "source": [
    "def predict_NN(parameters, x_test):\n",
    "    A2, cache = forward_propagation_NN(x_test, parameters)\n",
    "    Y_prediction = np.zeros((1, x_test.shape[1]))\n",
    "    for i in range(A2.shape[1]):\n",
    "        if A2[0, i] <= 0.5:\n",
    "            Y_prediction[0, i] = 0\n",
    "        else:\n",
    "            Y_prediction[0, i] = 1\n",
    "    \n",
    "    return Y_prediction"
   ],
   "id": "78bee8816073b2c0",
   "outputs": [],
   "execution_count": 12
  },
  {
   "metadata": {},
   "cell_type": "markdown",
   "source": "# Tworzenie modelu",
   "id": "59d4c1fa66eadaa0"
  },
  {
   "metadata": {
    "ExecuteTime": {
     "end_time": "2025-06-12T16:07:37.497057Z",
     "start_time": "2025-06-12T16:07:37.481419Z"
    }
   },
   "cell_type": "code",
   "source": [
    "def two_layer_neural_network(x_train, y_train, x_test, y_test, num_iterations):\n",
    "    cost_list = []\n",
    "    index_list = []\n",
    "    parameters = initialize_parameters_and_layer_sizes_NN(x_train, y_train)\n",
    "    \n",
    "    for i in range(0, num_iterations):\n",
    "        A2, cache = forward_propagation_NN(x_train, parameters)\n",
    "        cost = compute_cost(A2, y_train)\n",
    "        grads = backward_propagation_NN(parameters, cache, x_train, y_train)\n",
    "        parameters = update_parameters_NN(parameters, grads)\n",
    "        \n",
    "        if i % 100 == 0:\n",
    "            cost_list.append(cost)\n",
    "            index_list.append(i)\n",
    "            print(f'Cost after iteration {i}: {cost}')\n",
    "    plt.plot(index_list, cost_list)\n",
    "    plt.xticks(index_list, rotation='vertical')\n",
    "    plt.xlabel('Number of Iteration')\n",
    "    plt.ylabel('Cost')\n",
    "    plt.show()\n",
    "    \n",
    "    y_prediction_test = predict_NN(parameters, x_test)\n",
    "    y_prediction_train = predict_NN(parameters, x_train)\n",
    "    \n",
    "    print(f'train accuracy: {100 - np.mean(np.abs(y_prediction_train - y_train)) * 100} %')\n",
    "    print(f'test accuracy: {100 - np.mean(np.abs(y_prediction_test - y_test)) * 100} %')\n",
    "    return parameters"
   ],
   "id": "c41fb68e9052790b",
   "outputs": [],
   "execution_count": 13
  },
  {
   "metadata": {},
   "cell_type": "markdown",
   "source": "# Inicjalizacja modelu",
   "id": "4cb59d8a174551ef"
  },
  {
   "metadata": {
    "ExecuteTime": {
     "end_time": "2025-06-12T16:07:57.235918Z",
     "start_time": "2025-06-12T16:07:37.497057Z"
    }
   },
   "cell_type": "code",
   "source": "parameters = two_layer_neural_network(x_train, y_train, x_test, y_test, num_iterations=2500)",
   "id": "ebc06e140909f27a",
   "outputs": [
    {
     "name": "stdout",
     "output_type": "stream",
     "text": [
      "Cost after iteration 0: 0.29017925102925535\n",
      "Cost after iteration 100: 0.31032873277995604\n",
      "Cost after iteration 200: 0.2914865356470525\n",
      "Cost after iteration 300: 0.25678498080638884\n",
      "Cost after iteration 400: 0.2206635202135113\n",
      "Cost after iteration 500: 0.18978987442078465\n",
      "Cost after iteration 600: 0.1648921856452772\n",
      "Cost after iteration 700: 0.13929228962289986\n",
      "Cost after iteration 800: 0.12960983041456256\n",
      "Cost after iteration 900: 0.11628356717263132\n",
      "Cost after iteration 1000: 0.10564857311100795\n",
      "Cost after iteration 1100: 0.09685638971677374\n",
      "Cost after iteration 1200: 0.08922908684779668\n",
      "Cost after iteration 1300: 0.08219403681901548\n",
      "Cost after iteration 1400: 0.07545701578616021\n",
      "Cost after iteration 1500: 0.06902194837466749\n",
      "Cost after iteration 1600: 0.06295391972711102\n",
      "Cost after iteration 1700: 0.05736547438902048\n",
      "Cost after iteration 1800: 0.052422718445539106\n",
      "Cost after iteration 1900: 0.04817614557963335\n",
      "Cost after iteration 2000: 0.04459065377808316\n",
      "Cost after iteration 2100: 0.04135551588835335\n",
      "Cost after iteration 2200: 0.03805314271080168\n",
      "Cost after iteration 2300: 0.03458089455321369\n",
      "Cost after iteration 2400: 0.03169203376241216\n"
     ]
    },
    {
     "data": {
      "text/plain": [
       "<Figure size 640x480 with 1 Axes>"
      ],
      "image/png": "[encoded data removed]"
     },
     "metadata": {},
     "output_type": "display_data"
    },
    {
     "name": "stdout",
     "output_type": "stream",
     "text": [
      "train accuracy: 100.0 %\n",
      "test accuracy: 95.16129032258064 %\n"
     ]
    }
   ],
   "execution_count": 14
  }
 ],
 "metadata": {
  "kernelspec": {
   "display_name": "Python 3",
   "language": "python",
   "name": "python3"
  },
  "language_info": {
   "codemirror_mode": {
    "name": "ipython",
    "version": 2
   },
   "file_extension": ".py",
   "mimetype": "text/x-python",
   "name": "python",
   "nbconvert_exporter": "python",
   "pygments_lexer": "ipython2",
   "version": "2.7.6"
  }
 },
 "nbformat": 4,
 "nbformat_minor": 5
}
