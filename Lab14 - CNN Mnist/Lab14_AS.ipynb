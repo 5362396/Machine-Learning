{
 "cells": [
  {
   "metadata": {},
   "cell_type": "markdown",
   "source": "# Importowanie niezbędnych bibliotek",
   "id": "3f73c2c46300cd53"
  },
  {
   "cell_type": "code",
   "id": "initial_id",
   "metadata": {
    "collapsed": true,
    "ExecuteTime": {
     "end_time": "2025-06-12T15:13:42.304247Z",
     "start_time": "2025-06-12T15:13:39.135790Z"
    }
   },
   "source": [
    "import matplotlib.pyplot as plt\n",
    "import torch\n",
    "import torch.nn as nn\n",
    "import torch.nn.functional as F\n",
    "import torch.optim as optim\n",
    "import torchvision\n",
    "from torch.autograd import Variable\n",
    "from torchvision import datasets, transforms"
   ],
   "outputs": [],
   "execution_count": 1
  },
  {
   "metadata": {},
   "cell_type": "markdown",
   "source": "# PRACA Z CPU",
   "id": "fe3a92fab7d2efbb"
  },
  {
   "metadata": {
    "ExecuteTime": {
     "end_time": "2025-06-12T15:13:42.336255Z",
     "start_time": "2025-06-12T15:13:42.307178Z"
    }
   },
   "cell_type": "code",
   "source": "device = torch.device(\"cuda:0\" if torch.cuda.is_available() else \"cpu\")",
   "id": "c33d934a4dd2b1ff",
   "outputs": [],
   "execution_count": 2
  },
  {
   "metadata": {},
   "cell_type": "markdown",
   "source": "# PRZYGOTOWANIE ZESTAWU DANYCH",
   "id": "725eec21a5640af7"
  },
  {
   "metadata": {
    "ExecuteTime": {
     "end_time": "2025-06-12T15:13:42.397299Z",
     "start_time": "2025-06-12T15:13:42.336255Z"
    }
   },
   "cell_type": "code",
   "source": [
    "train_set = torchvision.datasets.MNIST(\n",
    "    root='./data/MNIST',\n",
    "    train=True,\n",
    "    download=True,\n",
    "    transform=transforms.Compose([\n",
    "        transforms.Resize((28, 28)),\n",
    "        transforms.ToTensor(),\n",
    "        transforms.Normalize((0.5,), (0.5,)),\n",
    "    ])\n",
    ")"
   ],
   "id": "74b79e779272b76f",
   "outputs": [],
   "execution_count": 3
  },
  {
   "metadata": {
    "ExecuteTime": {
     "end_time": "2025-06-12T15:13:42.414835Z",
     "start_time": "2025-06-12T15:13:42.399097Z"
    }
   },
   "cell_type": "code",
   "source": [
    "test_set = torchvision.datasets.MNIST(\n",
    "    root='./data/MNIST',\n",
    "    train=False,\n",
    "    download=True,\n",
    "    transform=transforms.Compose([\n",
    "        transforms.Resize((28, 28)),\n",
    "        transforms.ToTensor(),\n",
    "        transforms.Normalize((0.5,), (0.5,)),\n",
    "    ])\n",
    ")"
   ],
   "id": "c914094c69667809",
   "outputs": [],
   "execution_count": 4
  },
  {
   "metadata": {},
   "cell_type": "markdown",
   "source": "# DEFINIOWANIE MODUŁÓW ŁADUJĄCYCH DANE",
   "id": "9d3e9440eb159532"
  },
  {
   "metadata": {
    "ExecuteTime": {
     "end_time": "2025-06-12T15:13:42.430454Z",
     "start_time": "2025-06-12T15:13:42.414835Z"
    }
   },
   "cell_type": "code",
   "source": [
    "trainloader = torch.utils.data.DataLoader(train_set, batch_size=64, shuffle=True, drop_last=True)\n",
    "testloader = torch.utils.data.DataLoader(test_set, batch_size=64, shuffle=False, drop_last=True)"
   ],
   "id": "d51a53471e469b4f",
   "outputs": [],
   "execution_count": 5
  },
  {
   "metadata": {},
   "cell_type": "markdown",
   "source": "# ITERACJA W PARTII",
   "id": "6ad4091313b9e2f3"
  },
  {
   "metadata": {
    "ExecuteTime": {
     "end_time": "2025-06-12T15:13:42.457824Z",
     "start_time": "2025-06-12T15:13:42.430454Z"
    }
   },
   "cell_type": "code",
   "source": [
    "sample = next(iter(train_set))\n",
    "image = sample[0]\n",
    "label = sample[1]\n",
    "image.shape"
   ],
   "id": "8158b2405de1fd3f",
   "outputs": [
    {
     "data": {
      "text/plain": [
       "torch.Size([1, 28, 28])"
      ]
     },
     "execution_count": 6,
     "metadata": {},
     "output_type": "execute_result"
    }
   ],
   "execution_count": 6
  },
  {
   "metadata": {
    "ExecuteTime": {
     "end_time": "2025-06-12T15:13:42.489082Z",
     "start_time": "2025-06-12T15:13:42.457824Z"
    }
   },
   "cell_type": "code",
   "source": [
    "batch = next(iter(trainloader))\n",
    "images, labels = batch\n",
    "images.shape"
   ],
   "id": "c164d55fd4278975",
   "outputs": [
    {
     "data": {
      "text/plain": [
       "torch.Size([64, 1, 28, 28])"
      ]
     },
     "execution_count": 7,
     "metadata": {},
     "output_type": "execute_result"
    }
   ],
   "execution_count": 7
  },
  {
   "metadata": {},
   "cell_type": "markdown",
   "source": "# Wizualizacja danych",
   "id": "b0769e6e077052b0"
  },
  {
   "metadata": {
    "ExecuteTime": {
     "end_time": "2025-06-12T15:13:42.858095Z",
     "start_time": "2025-06-12T15:13:42.489082Z"
    }
   },
   "cell_type": "code",
   "source": [
    "n = 9\n",
    "for index in range(1, n + 1):\n",
    "    plt.subplot(3, 3, index)\n",
    "    plt.imshow(images[index].numpy().squeeze(), cmap='Blues')"
   ],
   "id": "d8b44c355a838718",
   "outputs": [
    {
     "data": {
      "text/plain": [
       "<Figure size 640x480 with 9 Axes>"
      ],
      "image/png": "[encoded data removed]"
     },
     "metadata": {},
     "output_type": "display_data"
    }
   ],
   "execution_count": 8
  },
  {
   "metadata": {},
   "cell_type": "markdown",
   "source": "# TWORZENIE KONWOLUCYJNEJ STRUKTURY SIECI NEURONOWEJ",
   "id": "77395fdb2af1abd3"
  },
  {
   "metadata": {
    "ExecuteTime": {
     "end_time": "2025-06-12T15:18:38.859494Z",
     "start_time": "2025-06-12T15:18:38.835654Z"
    }
   },
   "cell_type": "code",
   "source": [
    "class Network(nn.Module):\n",
    "    def __init__(self):\n",
    "        super().__init__()\n",
    "        self.conv1 = nn.Conv2d(in_channels=1, out_channels=6, kernel_size=5)\n",
    "        self.conv2 = nn.Conv2d(in_channels=6, out_channels=12, kernel_size=5)\n",
    "        self.fc1 = nn.Linear(in_features=12 * 4 * 4, out_features=120)\n",
    "        self.fc2 = nn.Linear(in_features=120, out_features=60)\n",
    "        self.out = nn.Linear(in_features=60, out_features=10)\n",
    "    \n",
    "    def forward(self, t):\n",
    "        t = F.relu(self.conv1(t))\n",
    "        t = F.max_pool2d(t, kernel_size=2, stride=2)\n",
    "        \n",
    "        t = F.relu(self.conv2(t))\n",
    "        t = F.max_pool2d(t, kernel_size=2, stride=2)\n",
    "        \n",
    "        t = F.relu(self.fc1(t.reshape(-1, 12 * 4 * 4)))\n",
    "        t = F.relu(self.fc2(t))\n",
    "        t = self.out(t)\n",
    "        return t"
   ],
   "id": "993aaeeb91ec93f1",
   "outputs": [],
   "execution_count": 9
  },
  {
   "metadata": {},
   "cell_type": "markdown",
   "source": "# TWORZENIE OBIEKTU",
   "id": "2c01b906aac2bd40"
  },
  {
   "metadata": {
    "ExecuteTime": {
     "end_time": "2025-06-12T15:19:46.770774Z",
     "start_time": "2025-06-12T15:19:46.732919Z"
    }
   },
   "cell_type": "code",
   "source": [
    "network = Network()\n",
    "network.to(device)\n",
    "\n",
    "error = nn.CrossEntropyLoss()\n",
    "\n",
    "learning_rate = 0.001\n",
    "optimizer = torch.optim.Adam(network.parameters(), lr=learning_rate)"
   ],
   "id": "affc6b3debefa49d",
   "outputs": [],
   "execution_count": 10
  },
  {
   "metadata": {},
   "cell_type": "markdown",
   "source": "# TRENOWANIE SIECI",
   "id": "8bed358ebeedb46f"
  },
  {
   "metadata": {
    "ExecuteTime": {
     "end_time": "2025-06-12T15:34:21.529858Z",
     "start_time": "2025-06-12T15:25:36.263960Z"
    }
   },
   "cell_type": "code",
   "source": [
    "network.cpu()\n",
    "\n",
    "num_epochs = 5\n",
    "count = 0\n",
    "loss_list = []\n",
    "iteration_list = []\n",
    "accuracy_list = []\n",
    "predictions_list = []\n",
    "labels_list = []\n",
    "\n",
    "for epoch in range(num_epochs):\n",
    "    for images, labels in trainloader:\n",
    "        images, labels = images.to(device), labels.to(device)\n",
    "        train = Variable(images.view(64, 1, 28, 28))\n",
    "        labels = Variable(labels)\n",
    "        outputs = network(train)\n",
    "        loss = error(outputs, labels)\n",
    "        optimizer.zero_grad()\n",
    "        loss.backward()\n",
    "        optimizer.step()\n",
    "        count += 1\n",
    "        if not (count % 50):\n",
    "            total = 0\n",
    "            correct = 0\n",
    "            for images, labels in testloader:\n",
    "                images, labels = images.to(device), labels.to(device)\n",
    "                labels_list.append(labels)\n",
    "                test = Variable(images.view(64, 1, 28, 28))\n",
    "                outputs = network(test)\n",
    "                predictions = torch.max(outputs, 1)[1].to(device)\n",
    "                predictions_list.append(predictions)\n",
    "                correct += (predictions == labels).sum()\n",
    "                total += len(labels)\n",
    "            accuracy = correct * 100 / total\n",
    "            loss_list.append(loss.data)\n",
    "            iteration_list.append(count)\n",
    "            accuracy_list.append(accuracy)\n",
    "        \n",
    "        if not (count % 500):\n",
    "            print(f'Iteration: {count}, Loss: {loss.data}, Accuracy: {accuracy}')"
   ],
   "id": "91139c50396f0ec6",
   "outputs": [
    {
     "name": "stdout",
     "output_type": "stream",
     "text": [
      "Iteration: 500, Loss: 0.11247903108596802, Accuracy: 97.05529022216797\n",
      "Iteration: 1000, Loss: 0.2655560076236725, Accuracy: 97.37580108642578\n",
      "Iteration: 1500, Loss: 0.018003912642598152, Accuracy: 98.18709564208984\n",
      "Iteration: 2000, Loss: 0.12706398963928223, Accuracy: 98.37740325927734\n",
      "Iteration: 2500, Loss: 0.004489350598305464, Accuracy: 98.40745544433594\n",
      "Iteration: 3000, Loss: 0.04137292876839638, Accuracy: 98.25720977783203\n",
      "Iteration: 3500, Loss: 0.025247491896152496, Accuracy: 98.74799346923828\n",
      "Iteration: 4000, Loss: 0.1359165906906128, Accuracy: 98.828125\n",
      "Iteration: 4500, Loss: 0.04444274306297302, Accuracy: 98.74799346923828\n"
     ]
    }
   ],
   "execution_count": 11
  },
  {
   "metadata": {},
   "cell_type": "code",
   "outputs": [],
   "execution_count": null,
   "source": "",
   "id": "fa4e29ea96709cee"
  }
 ],
 "metadata": {
  "kernelspec": {
   "display_name": "Python 3",
   "language": "python",
   "name": "python3"
  },
  "language_info": {
   "codemirror_mode": {
    "name": "ipython",
    "version": 2
   },
   "file_extension": ".py",
   "mimetype": "text/x-python",
   "name": "python",
   "nbconvert_exporter": "python",
   "pygments_lexer": "ipython2",
   "version": "2.7.6"
  }
 },
 "nbformat": 4,
 "nbformat_minor": 5
}
