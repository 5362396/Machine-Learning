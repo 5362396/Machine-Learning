{
 "cells": [
  {
   "metadata": {},
   "cell_type": "markdown",
   "source": "# Importowanie potrzebnych bibliotek.",
   "id": "2ee14d8c54422958"
  },
  {
   "cell_type": "code",
   "id": "initial_id",
   "metadata": {
    "collapsed": true,
    "ExecuteTime": {
     "end_time": "2025-05-10T15:02:14.626324Z",
     "start_time": "2025-05-10T15:02:14.066509Z"
    }
   },
   "source": [
    "import pandas as pd\n",
    "import numpy as np\n",
    "from sklearn.linear_model import LogisticRegression, RidgeClassifier\n",
    "from sklearn.ensemble import RandomForestClassifier\n",
    "from sklearn.tree import DecisionTreeClassifier\n",
    "from sklearn.metrics import classification_report, accuracy_score, recall_score, f1_score, precision_score\n",
    "from sklearn.model_selection import KFold, train_test_split\n",
    "from stackerpy import StackerModel\n",
    "import matplotlib.pyplot as plt\n",
    "\n",
    "np.random.seed(np.sum([ord(i) for i in 'StackerPy Testing']))"
   ],
   "outputs": [],
   "execution_count": 1
  },
  {
   "metadata": {},
   "cell_type": "markdown",
   "source": "# Definicja metody inicjalizującej klasy StackerModel.",
   "id": "50735aa0c13b1241"
  },
  {
   "metadata": {
    "ExecuteTime": {
     "end_time": "2025-05-10T15:02:14.653530Z",
     "start_time": "2025-05-10T15:02:14.626324Z"
    }
   },
   "cell_type": "code",
   "source": [
    "def __init__(self):\n",
    "    self.X = None\n",
    "    self.y = None\n",
    "    self.blend = None\n",
    "    self.splits = None\n",
    "    self.model_feature_indices = None   \n",
    "    self.model_methods = []\n",
    "    self.metafeatures_df = None\n",
    "    self.X_with_metafeatures = None\n",
    "    self.raw_models = None\n",
    "    self.fit_models = dict()\n",
    "    self.fit_blended_models = dict()\n",
    "    self.raw_stacker = None\n",
    "    self.stacker = None"
   ],
   "id": "f134b1af95d5286e",
   "outputs": [],
   "execution_count": 2
  },
  {
   "metadata": {},
   "cell_type": "markdown",
   "source": "# Definicja metody validate_models sprawdzającej poprawność i typy przekazanych modeli bazowych.",
   "id": "cec1b71bd04cd7fe"
  },
  {
   "metadata": {
    "ExecuteTime": {
     "end_time": "2025-05-10T15:02:14.669155Z",
     "start_time": "2025-05-10T15:02:14.653530Z"
    }
   },
   "cell_type": "code",
   "source": [
    "def validate_models(self, models):\n",
    "    for model in models:\n",
    "        # model name\n",
    "        model_name = model.__str__().split('(')[0]\n",
    "        \n",
    "        # assert that each model has a predict_proba or predict method\n",
    "        assert any(['predict' in dir(model), 'predict_proba' in dir(model)]), \\\n",
    "            f\"\"\"{model_name} does not have a predict or predict_proba method\"\"\"\n",
    "        \n",
    "        # determine which method to use from each of the models in the ist and keep stored\n",
    "        if 'predict_proba' not in dir(model) and 'predict' in dir(model):\n",
    "            print(f'Note: There is no predict_proba method in {model_name}, therefore predict method will be used')\n",
    "            self.model_methods.append('predict')\n",
    "        \n",
    "        if 'predict_proba' in dir(model):\n",
    "            self.model_methods.append('predict_proba')"
   ],
   "id": "698cafa68b928362",
   "outputs": [],
   "execution_count": 3
  },
  {
   "metadata": {},
   "cell_type": "markdown",
   "source": "# Definicja metody model_predictor, w której wybieramy jeden z dwóch dostępnych predyktorów.",
   "id": "8bbaf525ae6882e2"
  },
  {
   "metadata": {
    "ExecuteTime": {
     "end_time": "2025-05-10T15:02:14.684779Z",
     "start_time": "2025-05-10T15:02:14.669155Z"
    }
   },
   "cell_type": "code",
   "source": [
    "@staticmethod\n",
    "def model_predictor(model, X, method):\n",
    "    \"\"\"\n",
    "    :param model:\n",
    "    :param X:\n",
    "    :param method: 'predict' or 'predict_proba' as per generated list through model validation assertion\n",
    "    :return:\n",
    "    \"\"\"\n",
    "    \n",
    "    predictions = None\n",
    "    if method == 'predict_proba':\n",
    "        predictions = model.predict_proba(X)[:, 1]\n",
    "    if method == 'predict':\n",
    "        predictions = model.predict(X)\n",
    "    \n",
    "    return predictions"
   ],
   "id": "86c8cb13c32e843f",
   "outputs": [],
   "execution_count": 4
  },
  {
   "metadata": {},
   "cell_type": "markdown",
   "source": "# Definicja metody fit: trenowanie modeli bazowych i meta-modelu (stackera) z opcją blendingu i podziału na splity.",
   "id": "6ba48facfd5ae9e5"
  },
  {
   "metadata": {
    "ExecuteTime": {
     "end_time": "2025-05-10T15:02:14.700382Z",
     "start_time": "2025-05-10T15:02:14.684779Z"
    }
   },
   "cell_type": "code",
   "source": [
    "def fit(self, X, y, models, stacker, blend=False, splits=5, model_feature_indices=None):\n",
    "    \"\"\"\n",
    "    :param X:\n",
    "    :param y:\n",
    "    :param models:\n",
    "    :param stacker:\n",
    "    :param blend:\n",
    "    :param splits:\n",
    "    :param model_feature_indices:\n",
    "    :return:\n",
    "    \"\"\"\n",
    "    \n",
    "    # re-initialise so that you can\n",
    "    self.__init__()\n",
    "    \n",
    "    # some saved variables during fit\n",
    "    self.raw_models = models\n",
    "    self.raw_stacker = stacker\n",
    "    self.blend = blend\n",
    "    self.splits = splits\n",
    "    self.model_feature_indices = model_feature_indices\n",
    "    \n",
    "    self.validate_models(models)\n",
    "    \n",
    "    # convert X into a dataframe if not already\n",
    "    if str(type(X)) != \"\"\"<class 'pandas.core.frame.DataFrame'>\"\"\":\n",
    "        X = pd.DataFrame(X).reset_index(drop=True)\n",
    "    # convert y into a dataframe if not already\n",
    "    if str(type(y)) != \"\"\"<class 'pandas.core.frame.DataFrame'>\"\"\":\n",
    "        y = pd.DataFrame(y).reset_index(drop=True)\n",
    "    \n",
    "    if self.model_feature_indices is None:\n",
    "        self.model_feature_indices = [[i for i in range(X.shape[1])] for _ in models]\n",
    "    \n",
    "    self.model_names_list = [model.__str__().split('(')[0] for model in self.raw_models]\n",
    "    self.metafeatures_df = pd.DataFrame(index=[i for i in range(X.shape[0])], columns=self.model_names_list)\n",
    "    \n",
    "    for model, features, method in zip(self.raw_models, self.model_feature_indices, self.model_methods):\n",
    "        # model_name\n",
    "        model_name = model.__str__().split('(')[0]\n",
    "        \n",
    "        # train model\n",
    "        X_model_features = X.iloc[:, features]\n",
    "        \n",
    "        metafeatures = None\n",
    "        # blending if required\n",
    "        if self.blend is False:\n",
    "            model.fit(X_model_features, np.ravel(y))\n",
    "            metafeatures = self.model_predictor(model, X_model_features, method)\n",
    "            # store fit model for future metafeature predictions\n",
    "            self.fit_models[model_name] = model\n",
    "        if self.blend is True:\n",
    "            self.fit_blended_models[model_name] = []\n",
    "            # folder for blending\n",
    "            kf = KFold(n_splits=self.splits)\n",
    "            # metafeatures\n",
    "            metafeatures = pd.Series(np.zeros(X.shape[0]))\n",
    "            for idx, (train_idx, meta_idx) in enumerate(kf.split(X_model_features)):\n",
    "                # fit to train\n",
    "                model.fit(X_model_features.iloc[train_idx, :], np.ravel(y.iloc[train_idx, :]))\n",
    "                meta = self.model_predictor(model, X_model_features.iloc[meta_idx, :], method)\n",
    "                # append metas\n",
    "                metafeatures.iloc[meta_idx] = meta\n",
    "                # store fit model for future metafeature predictions\n",
    "                self.fit_blended_models[model_name].append(model)\n",
    "            # append metafeatures to the metafeature dataframe\n",
    "            self.metafeatures_df[model_name] = metafeatures\n",
    "        \n",
    "        # create final df with metafeatures\n",
    "        self.X_with_metafeatures = pd.concat([X.reset_index(drop=True), self.metafeatures_df.reset_index(drop=True)], axis=1)\n",
    "        # final stacked X-fit\n",
    "        self.stacker = stacker.fit(self.X_with_metafeatures, np.ravel(y))"
   ],
   "id": "edac6fb496591cc1",
   "outputs": [],
   "execution_count": 5
  },
  {
   "metadata": {},
   "cell_type": "markdown",
   "source": "# Definicja metody predict: generowanie przewidywań na podstawie wytrenowanego stackera.",
   "id": "57f6d691b16e0f00"
  },
  {
   "metadata": {
    "ExecuteTime": {
     "end_time": "2025-05-10T15:02:14.726522Z",
     "start_time": "2025-05-10T15:02:14.700382Z"
    }
   },
   "cell_type": "code",
   "source": [
    "def predict(self, X):\n",
    "    \"\"\"\n",
    "    prediction function using the models built in the fit method.\n",
    "    :param X:\n",
    "    :return:\n",
    "    \"\"\"\n",
    "    \n",
    "    # convert X into a dataframe if not already\n",
    "    if str(type(X)) != \"\"\"<class 'pandas.core.frame.DataFrame'>\"\"\":\n",
    "        X = pd.DataFrame(X).reset_index()\n",
    "    \n",
    "    metafeatures_df = pd.DataFrame(index=[i for i in range(X.shape[0])], columns=self.model_names_list)\n",
    "    if self.blend is False:\n",
    "        for (model_name, model), features, method in zip(self.fit_models.items(), self.model_feature_indices, self.model_methods):\n",
    "            X_model_features = X.iloc[:, features]\n",
    "            metafeatures = self.model_predictor(model, X_model_features, method)\n",
    "            metafeatures_df[model_name] = metafeatures\n",
    "    if self.blend is True:\n",
    "        # loop through all the available model types\n",
    "        for (model_name, model_list), features, method in zip(self.fit_blended_models.items(), self.model_feature_indices, self.model_methods):\n",
    "            X_model_features = X.iloc[:, features]\n",
    "            model_df = pd.DataFrame()\n",
    "            # loop through all the different models that were split during blended\n",
    "            for model_idx, model in enumerate(model_list):\n",
    "                # predict meta\n",
    "                meta = self.model_predictor(model, X_model_features, method)\n",
    "                model_df[model_idx] = meta\n",
    "            # average predictions from all different models from the blending process\n",
    "            metafeatures = np.mean(model_df, axis=1)\n",
    "            metafeatures_df[model_name] = metafeatures\n",
    "    \n",
    "    X_with_metafeatures = pd.concat([X.reset_index(drop=True), metafeatures_df.reset_index(drop=True)], axis=1)\n",
    "    \n",
    "    # make predictions\n",
    "    predictions = self.stacker.predict(X_with_metafeatures)\n",
    "    return predictions"
   ],
   "id": "f0d1a87dbc444367",
   "outputs": [],
   "execution_count": 6
  },
  {
   "metadata": {},
   "cell_type": "markdown",
   "source": "# Wczytanie danych z pliku CSV do DataFrame.",
   "id": "5281871eacd1f4c6"
  },
  {
   "metadata": {
    "ExecuteTime": {
     "end_time": "2025-05-10T15:02:15.027760Z",
     "start_time": "2025-05-10T15:02:15.005312Z"
    }
   },
   "cell_type": "code",
   "source": "df = pd.read_csv(\"Vlagun_Total_Years4.csv\")",
   "id": "c17e5ae6a01d23e1",
   "outputs": [],
   "execution_count": 8
  },
  {
   "metadata": {},
   "cell_type": "markdown",
   "source": "# Wyodrębnienie cech do zmiennych oraz podział na zbiory treningowy i testowy.",
   "id": "1932bc867e6e674c"
  },
  {
   "metadata": {
    "ExecuteTime": {
     "end_time": "2025-05-10T15:02:15.043172Z",
     "start_time": "2025-05-10T15:02:15.028796Z"
    }
   },
   "cell_type": "code",
   "source": [
    "X = df.iloc[:,0:57]\n",
    "y = df.iloc[:,57]\n",
    "X_train, X_test, y_train, y_test = train_test_split(\n",
    "    X, y, test_size=0.2, random_state=np.sum([ord(i) for i in 'StackerPy'])\n",
    ")\n",
    "print(\"Shape of X_train:\", X_train.shape)\n",
    "print(\"Shape of X_test:\", X_test.shape)"
   ],
   "id": "6202aedafad553c1",
   "outputs": [
    {
     "name": "stdout",
     "output_type": "stream",
     "text": [
      "Shape of X_train: (96, 57)\n",
      "Shape of X_test: (24, 57)\n"
     ]
    }
   ],
   "execution_count": 9
  },
  {
   "metadata": {},
   "cell_type": "markdown",
   "source": "# Utworzenie pustego DataFrame 'results' do przechowania wyników oceny modeli.",
   "id": "9a5a297e2f8c3986"
  },
  {
   "metadata": {
    "ExecuteTime": {
     "end_time": "2025-05-10T15:02:15.062839Z",
     "start_time": "2025-05-10T15:02:15.044186Z"
    }
   },
   "cell_type": "code",
   "source": "results = pd.DataFrame()",
   "id": "92d7c2eb94e0a11e",
   "outputs": [],
   "execution_count": 10
  },
  {
   "metadata": {},
   "cell_type": "markdown",
   "source": "# Inicjalizacja klasyfikatora RandomForestClassifier, uczenie modelu i wyświetlenie wyników przewidywań na zbiorze testowym.",
   "id": "74e428796d8af1a1"
  },
  {
   "metadata": {
    "ExecuteTime": {
     "end_time": "2025-05-10T15:02:15.158647Z",
     "start_time": "2025-05-10T15:02:15.062839Z"
    }
   },
   "cell_type": "code",
   "source": [
    "random_forest = RandomForestClassifier()\n",
    "random_forest.fit(X_train, np.ravel(y_train))\n",
    "random_forest_predictions = random_forest.predict(X_test)\n",
    "print('Original Random Forest Classifier Results')\n",
    "print(\n",
    "    classification_report(\n",
    "        y_true=y_test,\n",
    "        y_pred=random_forest_predictions\n",
    "    )\n",
    ")"
   ],
   "id": "c8877b0f39cf7c3e",
   "outputs": [
    {
     "name": "stdout",
     "output_type": "stream",
     "text": [
      "Original Random Forest Classifier Results\n",
      "              precision    recall  f1-score   support\n",
      "\n",
      "           0       0.90      1.00      0.95         9\n",
      "           1       1.00      0.93      0.97        15\n",
      "\n",
      "    accuracy                           0.96        24\n",
      "   macro avg       0.95      0.97      0.96        24\n",
      "weighted avg       0.96      0.96      0.96        24\n",
      "\n"
     ]
    }
   ],
   "execution_count": 11
  },
  {
   "metadata": {},
   "cell_type": "markdown",
   "source": "# Obliczenie metryk dla lasu losowego.",
   "id": "c59311fc967a0b7c"
  },
  {
   "metadata": {
    "ExecuteTime": {
     "end_time": "2025-05-10T15:02:15.174244Z",
     "start_time": "2025-05-10T15:02:15.158647Z"
    }
   },
   "cell_type": "code",
   "source": [
    "random_forest_accuracy = accuracy_score(y_true=y_test, y_pred=random_forest_predictions)\n",
    "random_forest_recall = recall_score(y_true=y_test, y_pred=random_forest_predictions)\n",
    "random_forest_precision = precision_score(y_true=y_test, y_pred=random_forest_predictions)\n",
    "random_forest_f1 = f1_score(y_true=y_test, y_pred=random_forest_predictions)\n",
    "print('Accuracy Score: ', random_forest_accuracy)\n",
    "print('Recall Score: ', random_forest_recall)\n",
    "print('Precision Score: ', random_forest_precision)\n",
    "print('F1 Score: ', random_forest_f1)\n",
    "print('*'*100)"
   ],
   "id": "5623fca240ae9b1d",
   "outputs": [
    {
     "name": "stdout",
     "output_type": "stream",
     "text": [
      "Accuracy Score:  0.9583333333333334\n",
      "Recall Score:  0.9333333333333333\n",
      "Precision Score:  1.0\n",
      "F1 Score:  0.9655172413793104\n",
      "****************************************************************************************************\n"
     ]
    }
   ],
   "execution_count": 12
  },
  {
   "metadata": {},
   "cell_type": "markdown",
   "source": "# Inicjalizacja klasyfikatora LogisticRegression, uczenie modelu i wyświetlenie wyników przewidywań na zbiorze testowym.",
   "id": "52db5449f7ca773b"
  },
  {
   "metadata": {
    "ExecuteTime": {
     "end_time": "2025-05-10T15:02:15.227659Z",
     "start_time": "2025-05-10T15:02:15.174244Z"
    }
   },
   "cell_type": "code",
   "source": [
    "logistic = LogisticRegression(solver='lbfgs', max_iter=10000)\n",
    "logistic.fit(X_train, np.ravel(y_train))\n",
    "logistic_predictions = logistic.predict(X_test)\n",
    "print('Original Logistic Regression Classifier Results')\n",
    "print(\n",
    "    classification_report(\n",
    "        y_true=y_test,\n",
    "        y_pred=logistic_predictions\n",
    "    )\n",
    ")"
   ],
   "id": "9fb3401e5c07b922",
   "outputs": [
    {
     "name": "stdout",
     "output_type": "stream",
     "text": [
      "Original Logistic Regression Classifier Results\n",
      "              precision    recall  f1-score   support\n",
      "\n",
      "           0       0.82      1.00      0.90         9\n",
      "           1       1.00      0.87      0.93        15\n",
      "\n",
      "    accuracy                           0.92        24\n",
      "   macro avg       0.91      0.93      0.91        24\n",
      "weighted avg       0.93      0.92      0.92        24\n",
      "\n"
     ]
    }
   ],
   "execution_count": 13
  },
  {
   "metadata": {},
   "cell_type": "markdown",
   "source": "# Obliczenie metryk dla regresji logistycznej.",
   "id": "ff76cea6528e79a8"
  },
  {
   "metadata": {
    "ExecuteTime": {
     "end_time": "2025-05-10T15:02:15.243314Z",
     "start_time": "2025-05-10T15:02:15.227659Z"
    }
   },
   "cell_type": "code",
   "source": [
    "logistic_accuracy = accuracy_score(y_true=y_test, y_pred=logistic_predictions)\n",
    "logistic_recall = recall_score(y_true=y_test, y_pred=logistic_predictions)\n",
    "logistic_precision = precision_score(y_true=y_test, y_pred=logistic_predictions)\n",
    "logistic_f1 = f1_score(y_true=y_test, y_pred=logistic_predictions)\n",
    "print('Accuracy Score: ', logistic_accuracy)\n",
    "print('Recall Score: ', logistic_recall)\n",
    "print('Precision Score: ', logistic_precision)\n",
    "print('F1 Score: ', logistic_f1)\n",
    "print('*'*100)"
   ],
   "id": "7350eab7e0fd6d52",
   "outputs": [
    {
     "name": "stdout",
     "output_type": "stream",
     "text": [
      "Accuracy Score:  0.9166666666666666\n",
      "Recall Score:  0.8666666666666667\n",
      "Precision Score:  1.0\n",
      "F1 Score:  0.9285714285714286\n",
      "****************************************************************************************************\n"
     ]
    }
   ],
   "execution_count": 14
  },
  {
   "metadata": {},
   "cell_type": "markdown",
   "source": "# Inicjalizacja klasyfikatora DecisionTreeClassifier, uczenie modelu i wyświetlenie wyników przewidywań na zbiorze testowym.",
   "id": "6761dd8b5739429c"
  },
  {
   "metadata": {
    "ExecuteTime": {
     "end_time": "2025-05-10T15:02:15.258881Z",
     "start_time": "2025-05-10T15:02:15.243314Z"
    }
   },
   "cell_type": "code",
   "source": [
    "dtree = DecisionTreeClassifier()\n",
    "dtree.fit(X_train, np.ravel(y_train))\n",
    "dtree_predictions = dtree.predict(X_test)\n",
    "print('Original Decision Tree Classifier Results')\n",
    "print(\n",
    "    classification_report(\n",
    "        y_true=y_test,\n",
    "        y_pred=dtree_predictions\n",
    "    )\n",
    ")"
   ],
   "id": "686d2de69f418a21",
   "outputs": [
    {
     "name": "stdout",
     "output_type": "stream",
     "text": [
      "Original Decision Tree Classifier Results\n",
      "              precision    recall  f1-score   support\n",
      "\n",
      "           0       0.78      0.78      0.78         9\n",
      "           1       0.87      0.87      0.87        15\n",
      "\n",
      "    accuracy                           0.83        24\n",
      "   macro avg       0.82      0.82      0.82        24\n",
      "weighted avg       0.83      0.83      0.83        24\n",
      "\n"
     ]
    }
   ],
   "execution_count": 15
  },
  {
   "metadata": {},
   "cell_type": "markdown",
   "source": "# Obliczenie metryk dla drzewa decyzyjnego.",
   "id": "e9d759a0cb92e524"
  },
  {
   "metadata": {
    "ExecuteTime": {
     "end_time": "2025-05-10T15:02:15.274530Z",
     "start_time": "2025-05-10T15:02:15.258881Z"
    }
   },
   "cell_type": "code",
   "source": [
    "dtree_accuracy = accuracy_score(y_true=y_test, y_pred=dtree_predictions)\n",
    "dtree_recall = recall_score(y_true=y_test, y_pred=dtree_predictions)\n",
    "dtree_precision = precision_score(y_true=y_test, y_pred=dtree_predictions)\n",
    "dtree_f1 = f1_score(y_true=y_test, y_pred=dtree_predictions)\n",
    "print('Accuracy Score: ', dtree_accuracy)\n",
    "print('Recall Score: ', dtree_recall)\n",
    "print('Precision Score: ', dtree_precision)\n",
    "print('F1 Score: ', dtree_f1)\n",
    "print('*'*100)"
   ],
   "id": "5c8865e7575ea3da",
   "outputs": [
    {
     "name": "stdout",
     "output_type": "stream",
     "text": [
      "Accuracy Score:  0.8333333333333334\n",
      "Recall Score:  0.8666666666666667\n",
      "Precision Score:  0.8666666666666667\n",
      "F1 Score:  0.8666666666666667\n",
      "****************************************************************************************************\n"
     ]
    }
   ],
   "execution_count": 16
  },
  {
   "metadata": {},
   "cell_type": "markdown",
   "source": "# Inicjalizacja klasyfikatora RidgeClassifier, uczenie modelu i wyświetlenie wyników przewidywań na zbiorze testowym.",
   "id": "50667e25a98484d0"
  },
  {
   "metadata": {
    "ExecuteTime": {
     "end_time": "2025-05-10T15:02:15.290131Z",
     "start_time": "2025-05-10T15:02:15.274530Z"
    }
   },
   "cell_type": "code",
   "source": [
    "ridge = RidgeClassifier()\n",
    "ridge.fit(X_train, np.ravel(y_train))\n",
    "ridge_predictions = ridge.predict(X_test)\n",
    "print('Original Ridge Classifier Results')\n",
    "print(\n",
    "    classification_report(\n",
    "        y_true=y_test,\n",
    "        y_pred=ridge_predictions\n",
    "    )\n",
    ")"
   ],
   "id": "2b92c1f4742da2c4",
   "outputs": [
    {
     "name": "stdout",
     "output_type": "stream",
     "text": [
      "Original Ridge Classifier Results\n",
      "              precision    recall  f1-score   support\n",
      "\n",
      "           0       1.00      1.00      1.00         9\n",
      "           1       1.00      1.00      1.00        15\n",
      "\n",
      "    accuracy                           1.00        24\n",
      "   macro avg       1.00      1.00      1.00        24\n",
      "weighted avg       1.00      1.00      1.00        24\n",
      "\n"
     ]
    }
   ],
   "execution_count": 17
  },
  {
   "metadata": {},
   "cell_type": "markdown",
   "source": "# Obliczenie metryk dla klasyfikatora Ridge.",
   "id": "c84810c50c317bd0"
  },
  {
   "metadata": {
    "ExecuteTime": {
     "end_time": "2025-05-10T15:02:15.305757Z",
     "start_time": "2025-05-10T15:02:15.290131Z"
    }
   },
   "cell_type": "code",
   "source": [
    "ridge_accuracy = accuracy_score(y_true=y_test, y_pred=ridge_predictions)\n",
    "ridge_recall = recall_score(y_true=y_test, y_pred=ridge_predictions)\n",
    "ridge_precision = precision_score(y_true=y_test, y_pred=ridge_predictions)\n",
    "ridge_f1 = f1_score(y_true=y_test, y_pred=ridge_predictions)\n",
    "print('Accuracy Score: ', ridge_accuracy)\n",
    "print('Recall Score: ', ridge_recall)\n",
    "print('Precision Score: ', ridge_precision)\n",
    "print('F1 Score: ', ridge_f1)\n",
    "print('*'*100)"
   ],
   "id": "e58fd8fa108ad824",
   "outputs": [
    {
     "name": "stdout",
     "output_type": "stream",
     "text": [
      "Accuracy Score:  1.0\n",
      "Recall Score:  1.0\n",
      "Precision Score:  1.0\n",
      "F1 Score:  1.0\n",
      "****************************************************************************************************\n"
     ]
    }
   ],
   "execution_count": 18
  },
  {
   "metadata": {},
   "cell_type": "markdown",
   "source": "# Inicjalizacja klasyfikatorów dla modelu stackującego.",
   "id": "1612ea02c66fdff8"
  },
  {
   "metadata": {
    "ExecuteTime": {
     "end_time": "2025-05-10T15:02:15.327979Z",
     "start_time": "2025-05-10T15:02:15.305757Z"
    }
   },
   "cell_type": "code",
   "source": [
    "lr2 = LogisticRegression(solver='lbfgs', max_iter=10000)\n",
    "dt2 = DecisionTreeClassifier()\n",
    "rf2 = RandomForestClassifier(n_estimators=25)\n",
    "rc2 = RidgeClassifier()\n",
    "models = [lr2, dt2, rf2]"
   ],
   "id": "e1a3faabd83bfefe",
   "outputs": [],
   "execution_count": 19
  },
  {
   "metadata": {},
   "cell_type": "markdown",
   "source": "# Utworzenie instancji StackerModel do dalszego łączenia wyników modeli bazowych.",
   "id": "43dea2bbc6cb16f8"
  },
  {
   "metadata": {
    "ExecuteTime": {
     "end_time": "2025-05-10T15:02:15.565736Z",
     "start_time": "2025-05-10T15:02:15.327979Z"
    }
   },
   "cell_type": "code",
   "source": [
    "stacker = StackerModel()\n",
    "stacker.fit(\n",
    "    X=X_train,\n",
    "    y=y_train,\n",
    "    models=models,\n",
    "    stacker=rc2,\n",
    "    blend=True,\n",
    "    splits=5,\n",
    "    model_feature_indices=None\n",
    ")\n",
    "stacker_predictions = stacker.predict(X_test)"
   ],
   "id": "a8cc1414651b3d2f",
   "outputs": [],
   "execution_count": 20
  },
  {
   "metadata": {},
   "cell_type": "markdown",
   "source": "# Wyświetlenie wyników przewidywań na zbiorze testowym przez model stackujący.",
   "id": "4ccec2d9cfe8d51e"
  },
  {
   "metadata": {
    "ExecuteTime": {
     "end_time": "2025-05-10T15:02:15.585716Z",
     "start_time": "2025-05-10T15:02:15.566759Z"
    }
   },
   "cell_type": "code",
   "source": [
    "print('Stacker Model Results with blending')\n",
    "print(\n",
    "    classification_report(\n",
    "        y_true=y_test,\n",
    "        y_pred=stacker_predictions\n",
    "    )\n",
    ")"
   ],
   "id": "4358a11bfab12d97",
   "outputs": [
    {
     "name": "stdout",
     "output_type": "stream",
     "text": [
      "Stacker Model Results with blending\n",
      "              precision    recall  f1-score   support\n",
      "\n",
      "           0       0.90      1.00      0.95         9\n",
      "           1       1.00      0.93      0.97        15\n",
      "\n",
      "    accuracy                           0.96        24\n",
      "   macro avg       0.95      0.97      0.96        24\n",
      "weighted avg       0.96      0.96      0.96        24\n",
      "\n"
     ]
    }
   ],
   "execution_count": 21
  },
  {
   "metadata": {},
   "cell_type": "markdown",
   "source": "# Obliczenie metryk dla modelu stackującego.",
   "id": "3e426fac05e16eaf"
  },
  {
   "metadata": {
    "ExecuteTime": {
     "end_time": "2025-05-10T15:02:15.601341Z",
     "start_time": "2025-05-10T15:02:15.585716Z"
    }
   },
   "cell_type": "code",
   "source": [
    "stacker_accuracy = accuracy_score(y_true=y_test, y_pred=stacker_predictions)\n",
    "stacker_recall = recall_score(y_true=y_test, y_pred=stacker_predictions)\n",
    "stacker_precision = precision_score(y_true=y_test, y_pred=stacker_predictions)\n",
    "stacker_f1 = f1_score(y_true=y_test, y_pred=stacker_predictions)\n",
    "print('Accuracy Score: ', stacker_accuracy)\n",
    "print('Recall Score: ', stacker_recall)\n",
    "print('Precision Score: ', stacker_precision)\n",
    "print('F1 Score: ', stacker_f1)\n",
    "print('*'*100)"
   ],
   "id": "1c2929af76023fda",
   "outputs": [
    {
     "name": "stdout",
     "output_type": "stream",
     "text": [
      "Accuracy Score:  0.9583333333333334\n",
      "Recall Score:  0.9333333333333333\n",
      "Precision Score:  1.0\n",
      "F1 Score:  0.9655172413793104\n",
      "****************************************************************************************************\n"
     ]
    }
   ],
   "execution_count": 22
  },
  {
   "metadata": {},
   "cell_type": "markdown",
   "source": "# Dodanie wyników ocen modeli do DataFrame",
   "id": "fcb4846530c0ead2"
  },
  {
   "metadata": {
    "ExecuteTime": {
     "end_time": "2025-05-10T15:02:15.628514Z",
     "start_time": "2025-05-10T15:02:15.601341Z"
    }
   },
   "cell_type": "code",
   "source": [
    "results['model'] = [\n",
    "    'Random\\nForest',\n",
    "    'Logistic\\nRegressioon',\n",
    "    'Decision\\nTree',\n",
    "    'Ridge\\nClassifier',\n",
    "    'Stacker\\nModel'\n",
    "]\n",
    "\n",
    "results['accuracy'] = [\n",
    "    random_forest_accuracy,\n",
    "    logistic_accuracy,\n",
    "    dtree_accuracy,\n",
    "    ridge_accuracy,\n",
    "    stacker_accuracy\n",
    "]\n",
    "\n",
    "results['recall'] = [\n",
    "    random_forest_recall,\n",
    "    logistic_recall,\n",
    "    dtree_recall,\n",
    "    ridge_recall,\n",
    "    stacker_recall\n",
    "]\n",
    "\n",
    "results['precision'] = [\n",
    "    random_forest_precision,\n",
    "    logistic_precision,\n",
    "    dtree_precision,\n",
    "    ridge_precision,\n",
    "    stacker_precision\n",
    "]\n",
    "\n",
    "results['f1'] = [\n",
    "    random_forest_f1,\n",
    "    logistic_f1,\n",
    "    dtree_f1,\n",
    "    ridge_f1,\n",
    "    stacker_f1\n",
    "]"
   ],
   "id": "2e70af4e4224286d",
   "outputs": [],
   "execution_count": 23
  },
  {
   "metadata": {},
   "cell_type": "markdown",
   "source": "# Przygotowanie siatki wykresów 2x2 i wizualizacja wyników każdego modelu w postaci wykresu słupkowego.",
   "id": "d983412a490af2"
  },
  {
   "metadata": {
    "ExecuteTime": {
     "end_time": "2025-05-10T15:02:15.875923Z",
     "start_time": "2025-05-10T15:02:15.628514Z"
    }
   },
   "cell_type": "code",
   "source": [
    "fig, axes = plt.subplots(2, 2, figsize=(15, 10))\n",
    "fig.subplots_adjust(hspace=0.3)\n",
    "((ax1, ax2), (ax3, ax4)) = axes\n",
    "\n",
    "for ax, score in zip([ax1, ax2, ax3, ax4], results.columns[1:]):\n",
    "    ax.set_title(f'{score} score')\n",
    "    ax.set_ylabel('Score')\n",
    "    results.set_index('model')[score].sort_values().plot(kind='bar', ax=ax, fontsize=10, color='#2E73A0')\n",
    "    ax.set_xlabel('Model Name')\n",
    "    ax.set_ylim([0.7, 1])\n",
    "    for tick in ax.get_xticklabels():\n",
    "        tick.set_rotation(0)\n",
    "\n",
    "plt.show()"
   ],
   "id": "a914c0d7b605103e",
   "outputs": [
    {
     "data": {
      "text/plain": [
       "<Figure size 1500x1000 with 4 Axes>"
      ],
      "image/png": "[encoded data removed]"
     },
     "metadata": {},
     "output_type": "display_data"
    }
   ],
   "execution_count": 24
  }
 ],
 "metadata": {
  "kernelspec": {
   "display_name": "Python 3",
   "language": "python",
   "name": "python3"
  },
  "language_info": {
   "codemirror_mode": {
    "name": "ipython",
    "version": 2
   },
   "file_extension": ".py",
   "mimetype": "text/x-python",
   "name": "python",
   "nbconvert_exporter": "python",
   "pygments_lexer": "ipython2",
   "version": "2.7.6"
  }
 },
 "nbformat": 4,
 "nbformat_minor": 5
}
