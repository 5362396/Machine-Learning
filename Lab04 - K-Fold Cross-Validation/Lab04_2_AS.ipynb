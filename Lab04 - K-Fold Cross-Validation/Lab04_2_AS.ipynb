{
 "cells": [
  {
   "metadata": {},
   "cell_type": "markdown",
   "source": "# K-Fold Cross-Validation w praktyce - Analiza wrażliwości K",
   "id": "ea48a2d9e9dd7f7"
  },
  {
   "cell_type": "code",
   "id": "initial_id",
   "metadata": {
    "collapsed": true,
    "ExecuteTime": {
     "end_time": "2025-03-20T17:14:07.084339Z",
     "start_time": "2025-03-20T17:14:07.058577Z"
    }
   },
   "source": [
    "import matplotlib.pyplot as plt\n",
    "import numpy as np\n",
    "import pandas as pd\n",
    "from sklearn.datasets import make_classification\n",
    "from sklearn.linear_model import LogisticRegression\n",
    "from sklearn.model_selection import LeaveOneOut, KFold, cross_val_score, train_test_split\n",
    "%matplotlib inline"
   ],
   "outputs": [],
   "execution_count": 9
  },
  {
   "metadata": {
    "ExecuteTime": {
     "end_time": "2025-03-20T17:14:07.115544Z",
     "start_time": "2025-03-20T17:14:07.084339Z"
    }
   },
   "cell_type": "code",
   "source": [
    "dataset = pd.read_csv('VLagun_Phys_Years3.csv')\n",
    "dataset"
   ],
   "id": "af7af3d43a62991",
   "outputs": [
    {
     "data": {
      "text/plain": [
       "          PSU     O2  temp.      SS     DOC     TPOC  Windspeedinsitu  Depth  \\\n",
       "0    3.757624   9.46   18.3   52.00  7.5000   8.5650              3.5    3.3   \n",
       "1    3.504707   9.89   19.1   50.00  7.8600   8.5200              0.0    3.6   \n",
       "2    3.757624   9.66   18.1   59.00  8.1720   8.4915              1.0    3.4   \n",
       "3    3.107266  10.36   19.5   46.00  7.8480   8.8320              0.0    2.9   \n",
       "4    2.619498  11.56   19.0   42.00  7.5360   9.2400              0.0    3.0   \n",
       "..        ...    ...    ...     ...     ...      ...              ...    ...   \n",
       "115  4.500000   9.93   16.3  117.50  7.0180  13.0645              8.5    3.2   \n",
       "116  4.600000  10.02   16.2  115.00  7.0905  11.4115             10.2    3.3   \n",
       "117  4.500000   9.93   16.3  113.75  7.0615  11.7595              9.5    3.4   \n",
       "118  4.200000  10.30   16.0  102.50  7.1050  12.4410             10.5    3.3   \n",
       "119  4.100000  10.10   16.0  120.00  7.2065  13.0500             11.5    2.2   \n",
       "\n",
       "     Years  \n",
       "0        0  \n",
       "1        0  \n",
       "2        0  \n",
       "3        0  \n",
       "4        0  \n",
       "..     ...  \n",
       "115      1  \n",
       "116      1  \n",
       "117      1  \n",
       "118      1  \n",
       "119      1  \n",
       "\n",
       "[120 rows x 9 columns]"
      ],
      "text/html": [
       "<div>\n",
       "<style scoped>\n",
       "    .dataframe tbody tr th:only-of-type {\n",
       "        vertical-align: middle;\n",
       "    }\n",
       "\n",
       "    .dataframe tbody tr th {\n",
       "        vertical-align: top;\n",
       "    }\n",
       "\n",
       "    .dataframe thead th {\n",
       "        text-align: right;\n",
       "    }\n",
       "</style>\n",
       "<table border=\"1\" class=\"dataframe\">\n",
       "  <thead>\n",
       "    <tr style=\"text-align: right;\">\n",
       "      <th></th>\n",
       "      <th>PSU</th>\n",
       "      <th>O2</th>\n",
       "      <th>temp.</th>\n",
       "      <th>SS</th>\n",
       "      <th>DOC</th>\n",
       "      <th>TPOC</th>\n",
       "      <th>Windspeedinsitu</th>\n",
       "      <th>Depth</th>\n",
       "      <th>Years</th>\n",
       "    </tr>\n",
       "  </thead>\n",
       "  <tbody>\n",
       "    <tr>\n",
       "      <th>0</th>\n",
       "      <td>3.757624</td>\n",
       "      <td>9.46</td>\n",
       "      <td>18.3</td>\n",
       "      <td>52.00</td>\n",
       "      <td>7.5000</td>\n",
       "      <td>8.5650</td>\n",
       "      <td>3.5</td>\n",
       "      <td>3.3</td>\n",
       "      <td>0</td>\n",
       "    </tr>\n",
       "    <tr>\n",
       "      <th>1</th>\n",
       "      <td>3.504707</td>\n",
       "      <td>9.89</td>\n",
       "      <td>19.1</td>\n",
       "      <td>50.00</td>\n",
       "      <td>7.8600</td>\n",
       "      <td>8.5200</td>\n",
       "      <td>0.0</td>\n",
       "      <td>3.6</td>\n",
       "      <td>0</td>\n",
       "    </tr>\n",
       "    <tr>\n",
       "      <th>2</th>\n",
       "      <td>3.757624</td>\n",
       "      <td>9.66</td>\n",
       "      <td>18.1</td>\n",
       "      <td>59.00</td>\n",
       "      <td>8.1720</td>\n",
       "      <td>8.4915</td>\n",
       "      <td>1.0</td>\n",
       "      <td>3.4</td>\n",
       "      <td>0</td>\n",
       "    </tr>\n",
       "    <tr>\n",
       "      <th>3</th>\n",
       "      <td>3.107266</td>\n",
       "      <td>10.36</td>\n",
       "      <td>19.5</td>\n",
       "      <td>46.00</td>\n",
       "      <td>7.8480</td>\n",
       "      <td>8.8320</td>\n",
       "      <td>0.0</td>\n",
       "      <td>2.9</td>\n",
       "      <td>0</td>\n",
       "    </tr>\n",
       "    <tr>\n",
       "      <th>4</th>\n",
       "      <td>2.619498</td>\n",
       "      <td>11.56</td>\n",
       "      <td>19.0</td>\n",
       "      <td>42.00</td>\n",
       "      <td>7.5360</td>\n",
       "      <td>9.2400</td>\n",
       "      <td>0.0</td>\n",
       "      <td>3.0</td>\n",
       "      <td>0</td>\n",
       "    </tr>\n",
       "    <tr>\n",
       "      <th>...</th>\n",
       "      <td>...</td>\n",
       "      <td>...</td>\n",
       "      <td>...</td>\n",
       "      <td>...</td>\n",
       "      <td>...</td>\n",
       "      <td>...</td>\n",
       "      <td>...</td>\n",
       "      <td>...</td>\n",
       "      <td>...</td>\n",
       "    </tr>\n",
       "    <tr>\n",
       "      <th>115</th>\n",
       "      <td>4.500000</td>\n",
       "      <td>9.93</td>\n",
       "      <td>16.3</td>\n",
       "      <td>117.50</td>\n",
       "      <td>7.0180</td>\n",
       "      <td>13.0645</td>\n",
       "      <td>8.5</td>\n",
       "      <td>3.2</td>\n",
       "      <td>1</td>\n",
       "    </tr>\n",
       "    <tr>\n",
       "      <th>116</th>\n",
       "      <td>4.600000</td>\n",
       "      <td>10.02</td>\n",
       "      <td>16.2</td>\n",
       "      <td>115.00</td>\n",
       "      <td>7.0905</td>\n",
       "      <td>11.4115</td>\n",
       "      <td>10.2</td>\n",
       "      <td>3.3</td>\n",
       "      <td>1</td>\n",
       "    </tr>\n",
       "    <tr>\n",
       "      <th>117</th>\n",
       "      <td>4.500000</td>\n",
       "      <td>9.93</td>\n",
       "      <td>16.3</td>\n",
       "      <td>113.75</td>\n",
       "      <td>7.0615</td>\n",
       "      <td>11.7595</td>\n",
       "      <td>9.5</td>\n",
       "      <td>3.4</td>\n",
       "      <td>1</td>\n",
       "    </tr>\n",
       "    <tr>\n",
       "      <th>118</th>\n",
       "      <td>4.200000</td>\n",
       "      <td>10.30</td>\n",
       "      <td>16.0</td>\n",
       "      <td>102.50</td>\n",
       "      <td>7.1050</td>\n",
       "      <td>12.4410</td>\n",
       "      <td>10.5</td>\n",
       "      <td>3.3</td>\n",
       "      <td>1</td>\n",
       "    </tr>\n",
       "    <tr>\n",
       "      <th>119</th>\n",
       "      <td>4.100000</td>\n",
       "      <td>10.10</td>\n",
       "      <td>16.0</td>\n",
       "      <td>120.00</td>\n",
       "      <td>7.2065</td>\n",
       "      <td>13.0500</td>\n",
       "      <td>11.5</td>\n",
       "      <td>2.2</td>\n",
       "      <td>1</td>\n",
       "    </tr>\n",
       "  </tbody>\n",
       "</table>\n",
       "<p>120 rows × 9 columns</p>\n",
       "</div>"
      ]
     },
     "execution_count": 10,
     "metadata": {},
     "output_type": "execute_result"
    }
   ],
   "execution_count": 10
  },
  {
   "metadata": {
    "ExecuteTime": {
     "end_time": "2025-03-20T17:14:07.143310Z",
     "start_time": "2025-03-20T17:14:07.115544Z"
    }
   },
   "cell_type": "code",
   "source": [
    "X = dataset.iloc[:, :-1]\n",
    "y = dataset.iloc[:, -1]\n",
    "X.shape, y.shape"
   ],
   "id": "ca5dc9d2e8cce6ad",
   "outputs": [
    {
     "data": {
      "text/plain": [
       "((120, 8), (120,))"
      ]
     },
     "execution_count": 11,
     "metadata": {},
     "output_type": "execute_result"
    }
   ],
   "execution_count": 11
  },
  {
   "metadata": {
    "ExecuteTime": {
     "end_time": "2025-03-20T17:14:07.158954Z",
     "start_time": "2025-03-20T17:14:07.143310Z"
    }
   },
   "cell_type": "code",
   "source": [
    "X_train, X_test, y_train, y_test = train_test_split(X, y, test_size=0.3, random_state=0)\n",
    "features, targets = X, y"
   ],
   "id": "cfc112f128cc8551",
   "outputs": [],
   "execution_count": 12
  },
  {
   "metadata": {
    "ExecuteTime": {
     "end_time": "2025-03-20T17:14:07.174615Z",
     "start_time": "2025-03-20T17:14:07.158954Z"
    }
   },
   "cell_type": "code",
   "source": [
    "def get_dataset(n_samples=120):\n",
    "    X, y = make_classification(n_samples=n_samples, n_features=7, random_state=1)\n",
    "    return X, y\n",
    "\n",
    "def get_model():\n",
    "    model = LogisticRegression()\n",
    "    return model\n",
    "\n",
    "def evaluate_model(cv):\n",
    "    X, y = get_dataset()\n",
    "    model = get_model()\n",
    "    scores = cross_val_score(model, X, y, scoring='accuracy', cv=cv, n_jobs=-1)\n",
    "    return np.mean(scores), scores.min(), scores.max()"
   ],
   "id": "cae0c276f3af1f0b",
   "outputs": [],
   "execution_count": 13
  },
  {
   "metadata": {
    "ExecuteTime": {
     "end_time": "2025-03-20T17:14:07.290588Z",
     "start_time": "2025-03-20T17:14:07.174615Z"
    }
   },
   "cell_type": "code",
   "source": [
    "ideal, _, _ = evaluate_model(LeaveOneOut())\n",
    "print('Ideal:', ideal)\n",
    "folds = range(2, 31)\n",
    "means, mins, maxs = list(), list(), list()"
   ],
   "id": "6529cbf6b469dde5",
   "outputs": [
    {
     "name": "stdout",
     "output_type": "stream",
     "text": [
      "Ideal: 0.8666666666666667\n"
     ]
    }
   ],
   "execution_count": 14
  },
  {
   "metadata": {
    "ExecuteTime": {
     "end_time": "2025-03-20T17:14:08.161738Z",
     "start_time": "2025-03-20T17:14:07.290588Z"
    }
   },
   "cell_type": "code",
   "source": [
    "for k in folds:\n",
    "    cv = KFold(n_splits=k, shuffle=True, random_state=1)\n",
    "    k_mean, k_min, k_max = evaluate_model(cv)\n",
    "    print('> folds=%d, accuracy=%.3f (%.3f, %.3f)' % (k, k_mean, k_min, k_max))\n",
    "    means.append(k_mean)\n",
    "    mins.append(k_mean - k_min)\n",
    "    maxs.append(k_max - k_mean)"
   ],
   "id": "6c7f1d55b798bac8",
   "outputs": [
    {
     "name": "stdout",
     "output_type": "stream",
     "text": [
      "> folds=2, accuracy=0.833 (0.817, 0.850)\n",
      "> folds=3, accuracy=0.883 (0.825, 0.925)\n",
      "> folds=4, accuracy=0.867 (0.767, 0.967)\n",
      "> folds=5, accuracy=0.883 (0.792, 1.000)\n",
      "> folds=6, accuracy=0.867 (0.750, 1.000)\n",
      "> folds=7, accuracy=0.866 (0.647, 1.000)\n",
      "> folds=8, accuracy=0.858 (0.667, 1.000)\n",
      "> folds=9, accuracy=0.866 (0.615, 1.000)\n",
      "> folds=10, accuracy=0.867 (0.583, 1.000)\n",
      "> folds=11, accuracy=0.868 (0.636, 1.000)\n",
      "> folds=12, accuracy=0.867 (0.600, 1.000)\n",
      "> folds=13, accuracy=0.866 (0.556, 1.000)\n",
      "> folds=14, accuracy=0.862 (0.667, 1.000)\n",
      "> folds=15, accuracy=0.867 (0.500, 1.000)\n",
      "> folds=16, accuracy=0.869 (0.500, 1.000)\n",
      "> folds=17, accuracy=0.867 (0.429, 1.000)\n",
      "> folds=18, accuracy=0.872 (0.571, 1.000)\n",
      "> folds=19, accuracy=0.866 (0.500, 1.000)\n",
      "> folds=20, accuracy=0.867 (0.500, 1.000)\n",
      "> folds=21, accuracy=0.871 (0.500, 1.000)\n",
      "> folds=22, accuracy=0.867 (0.400, 1.000)\n",
      "> folds=23, accuracy=0.857 (0.400, 1.000)\n",
      "> folds=24, accuracy=0.858 (0.400, 1.000)\n",
      "> folds=25, accuracy=0.864 (0.400, 1.000)\n",
      "> folds=26, accuracy=0.863 (0.400, 1.000)\n",
      "> folds=27, accuracy=0.859 (0.250, 1.000)\n",
      "> folds=28, accuracy=0.864 (0.250, 1.000)\n",
      "> folds=29, accuracy=0.866 (0.250, 1.000)\n",
      "> folds=30, accuracy=0.867 (0.250, 1.000)\n"
     ]
    }
   ],
   "execution_count": 15
  },
  {
   "metadata": {
    "ExecuteTime": {
     "end_time": "2025-03-20T17:14:08.246118Z",
     "start_time": "2025-03-20T17:14:08.161738Z"
    }
   },
   "cell_type": "code",
   "source": [
    "plt.errorbar(folds, means, yerr=[mins, maxs], fmt='o')\n",
    "plt.plot(folds, [ideal for _ in range(len(folds))], color='r')\n",
    "plt.show()"
   ],
   "id": "641674a7438390ad",
   "outputs": [
    {
     "data": {
      "text/plain": [
       "<Figure size 640x480 with 1 Axes>"
      ],
      "image/png": "[encoded data removed]"
     },
     "metadata": {},
     "output_type": "display_data"
    }
   ],
   "execution_count": 16
  },
  {
   "metadata": {},
   "cell_type": "markdown",
   "source": "Folds 3 i 5 mają największy accuracy_score",
   "id": "c79568d7c5af82a1"
  }
 ],
 "metadata": {
  "kernelspec": {
   "display_name": "Python 3",
   "language": "python",
   "name": "python3"
  },
  "language_info": {
   "codemirror_mode": {
    "name": "ipython",
    "version": 2
   },
   "file_extension": ".py",
   "mimetype": "text/x-python",
   "name": "python",
   "nbconvert_exporter": "python",
   "pygments_lexer": "ipython2",
   "version": "2.7.6"
  }
 },
 "nbformat": 4,
 "nbformat_minor": 5
}
