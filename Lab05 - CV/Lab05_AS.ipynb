{
 "cells": [
  {
   "cell_type": "code",
   "id": "initial_id",
   "metadata": {
    "collapsed": true,
    "ExecuteTime": {
     "end_time": "2025-03-27T16:42:30.494831Z",
     "start_time": "2025-03-27T16:42:30.466970Z"
    }
   },
   "source": [
    "import numpy as np\n",
    "import pandas as pd\n",
    "import warnings\n",
    "from sklearn.linear_model import LogisticRegression\n",
    "from sklearn.model_selection import KFold, StratifiedKFold, ShuffleSplit, cross_val_score, train_test_split\n",
    "from sklearn.neighbors import KNeighborsClassifier\n",
    "from sklearn.svm import SVC\n",
    "from sklearn.tree import DecisionTreeClassifier\n",
    "warnings.filterwarnings('ignore')"
   ],
   "outputs": [],
   "execution_count": 14
  },
  {
   "metadata": {
    "ExecuteTime": {
     "end_time": "2025-03-27T16:42:30.528170Z",
     "start_time": "2025-03-27T16:42:30.496822Z"
    }
   },
   "cell_type": "code",
   "source": [
    "data = pd.read_csv('VLagun_Phys_Years3.csv')\n",
    "data"
   ],
   "id": "44ad3757b5e1bd3f",
   "outputs": [
    {
     "data": {
      "text/plain": [
       "          PSU     O2  temp.      SS     DOC     TPOC  Windspeedinsitu  Depth  \\\n",
       "0    3.757624   9.46   18.3   52.00  7.5000   8.5650              3.5    3.3   \n",
       "1    3.504707   9.89   19.1   50.00  7.8600   8.5200              0.0    3.6   \n",
       "2    3.757624   9.66   18.1   59.00  8.1720   8.4915              1.0    3.4   \n",
       "3    3.107266  10.36   19.5   46.00  7.8480   8.8320              0.0    2.9   \n",
       "4    2.619498  11.56   19.0   42.00  7.5360   9.2400              0.0    3.0   \n",
       "..        ...    ...    ...     ...     ...      ...              ...    ...   \n",
       "115  4.500000   9.93   16.3  117.50  7.0180  13.0645              8.5    3.2   \n",
       "116  4.600000  10.02   16.2  115.00  7.0905  11.4115             10.2    3.3   \n",
       "117  4.500000   9.93   16.3  113.75  7.0615  11.7595              9.5    3.4   \n",
       "118  4.200000  10.30   16.0  102.50  7.1050  12.4410             10.5    3.3   \n",
       "119  4.100000  10.10   16.0  120.00  7.2065  13.0500             11.5    2.2   \n",
       "\n",
       "     Years  \n",
       "0        0  \n",
       "1        0  \n",
       "2        0  \n",
       "3        0  \n",
       "4        0  \n",
       "..     ...  \n",
       "115      1  \n",
       "116      1  \n",
       "117      1  \n",
       "118      1  \n",
       "119      1  \n",
       "\n",
       "[120 rows x 9 columns]"
      ],
      "text/html": [
       "<div>\n",
       "<style scoped>\n",
       "    .dataframe tbody tr th:only-of-type {\n",
       "        vertical-align: middle;\n",
       "    }\n",
       "\n",
       "    .dataframe tbody tr th {\n",
       "        vertical-align: top;\n",
       "    }\n",
       "\n",
       "    .dataframe thead th {\n",
       "        text-align: right;\n",
       "    }\n",
       "</style>\n",
       "<table border=\"1\" class=\"dataframe\">\n",
       "  <thead>\n",
       "    <tr style=\"text-align: right;\">\n",
       "      <th></th>\n",
       "      <th>PSU</th>\n",
       "      <th>O2</th>\n",
       "      <th>temp.</th>\n",
       "      <th>SS</th>\n",
       "      <th>DOC</th>\n",
       "      <th>TPOC</th>\n",
       "      <th>Windspeedinsitu</th>\n",
       "      <th>Depth</th>\n",
       "      <th>Years</th>\n",
       "    </tr>\n",
       "  </thead>\n",
       "  <tbody>\n",
       "    <tr>\n",
       "      <th>0</th>\n",
       "      <td>3.757624</td>\n",
       "      <td>9.46</td>\n",
       "      <td>18.3</td>\n",
       "      <td>52.00</td>\n",
       "      <td>7.5000</td>\n",
       "      <td>8.5650</td>\n",
       "      <td>3.5</td>\n",
       "      <td>3.3</td>\n",
       "      <td>0</td>\n",
       "    </tr>\n",
       "    <tr>\n",
       "      <th>1</th>\n",
       "      <td>3.504707</td>\n",
       "      <td>9.89</td>\n",
       "      <td>19.1</td>\n",
       "      <td>50.00</td>\n",
       "      <td>7.8600</td>\n",
       "      <td>8.5200</td>\n",
       "      <td>0.0</td>\n",
       "      <td>3.6</td>\n",
       "      <td>0</td>\n",
       "    </tr>\n",
       "    <tr>\n",
       "      <th>2</th>\n",
       "      <td>3.757624</td>\n",
       "      <td>9.66</td>\n",
       "      <td>18.1</td>\n",
       "      <td>59.00</td>\n",
       "      <td>8.1720</td>\n",
       "      <td>8.4915</td>\n",
       "      <td>1.0</td>\n",
       "      <td>3.4</td>\n",
       "      <td>0</td>\n",
       "    </tr>\n",
       "    <tr>\n",
       "      <th>3</th>\n",
       "      <td>3.107266</td>\n",
       "      <td>10.36</td>\n",
       "      <td>19.5</td>\n",
       "      <td>46.00</td>\n",
       "      <td>7.8480</td>\n",
       "      <td>8.8320</td>\n",
       "      <td>0.0</td>\n",
       "      <td>2.9</td>\n",
       "      <td>0</td>\n",
       "    </tr>\n",
       "    <tr>\n",
       "      <th>4</th>\n",
       "      <td>2.619498</td>\n",
       "      <td>11.56</td>\n",
       "      <td>19.0</td>\n",
       "      <td>42.00</td>\n",
       "      <td>7.5360</td>\n",
       "      <td>9.2400</td>\n",
       "      <td>0.0</td>\n",
       "      <td>3.0</td>\n",
       "      <td>0</td>\n",
       "    </tr>\n",
       "    <tr>\n",
       "      <th>...</th>\n",
       "      <td>...</td>\n",
       "      <td>...</td>\n",
       "      <td>...</td>\n",
       "      <td>...</td>\n",
       "      <td>...</td>\n",
       "      <td>...</td>\n",
       "      <td>...</td>\n",
       "      <td>...</td>\n",
       "      <td>...</td>\n",
       "    </tr>\n",
       "    <tr>\n",
       "      <th>115</th>\n",
       "      <td>4.500000</td>\n",
       "      <td>9.93</td>\n",
       "      <td>16.3</td>\n",
       "      <td>117.50</td>\n",
       "      <td>7.0180</td>\n",
       "      <td>13.0645</td>\n",
       "      <td>8.5</td>\n",
       "      <td>3.2</td>\n",
       "      <td>1</td>\n",
       "    </tr>\n",
       "    <tr>\n",
       "      <th>116</th>\n",
       "      <td>4.600000</td>\n",
       "      <td>10.02</td>\n",
       "      <td>16.2</td>\n",
       "      <td>115.00</td>\n",
       "      <td>7.0905</td>\n",
       "      <td>11.4115</td>\n",
       "      <td>10.2</td>\n",
       "      <td>3.3</td>\n",
       "      <td>1</td>\n",
       "    </tr>\n",
       "    <tr>\n",
       "      <th>117</th>\n",
       "      <td>4.500000</td>\n",
       "      <td>9.93</td>\n",
       "      <td>16.3</td>\n",
       "      <td>113.75</td>\n",
       "      <td>7.0615</td>\n",
       "      <td>11.7595</td>\n",
       "      <td>9.5</td>\n",
       "      <td>3.4</td>\n",
       "      <td>1</td>\n",
       "    </tr>\n",
       "    <tr>\n",
       "      <th>118</th>\n",
       "      <td>4.200000</td>\n",
       "      <td>10.30</td>\n",
       "      <td>16.0</td>\n",
       "      <td>102.50</td>\n",
       "      <td>7.1050</td>\n",
       "      <td>12.4410</td>\n",
       "      <td>10.5</td>\n",
       "      <td>3.3</td>\n",
       "      <td>1</td>\n",
       "    </tr>\n",
       "    <tr>\n",
       "      <th>119</th>\n",
       "      <td>4.100000</td>\n",
       "      <td>10.10</td>\n",
       "      <td>16.0</td>\n",
       "      <td>120.00</td>\n",
       "      <td>7.2065</td>\n",
       "      <td>13.0500</td>\n",
       "      <td>11.5</td>\n",
       "      <td>2.2</td>\n",
       "      <td>1</td>\n",
       "    </tr>\n",
       "  </tbody>\n",
       "</table>\n",
       "<p>120 rows × 9 columns</p>\n",
       "</div>"
      ]
     },
     "execution_count": 15,
     "metadata": {},
     "output_type": "execute_result"
    }
   ],
   "execution_count": 15
  },
  {
   "metadata": {
    "ExecuteTime": {
     "end_time": "2025-03-27T16:42:30.551358Z",
     "start_time": "2025-03-27T16:42:30.528170Z"
    }
   },
   "cell_type": "code",
   "source": [
    "X = data.iloc[:, :-1]\n",
    "y = data.iloc[:, -1]\n",
    "X.shape, y.shape"
   ],
   "id": "24f93cb57bf07e6f",
   "outputs": [
    {
     "data": {
      "text/plain": [
       "((120, 8), (120,))"
      ]
     },
     "execution_count": 16,
     "metadata": {},
     "output_type": "execute_result"
    }
   ],
   "execution_count": 16
  },
  {
   "metadata": {
    "ExecuteTime": {
     "end_time": "2025-03-27T16:42:30.567007Z",
     "start_time": "2025-03-27T16:42:30.551358Z"
    }
   },
   "cell_type": "code",
   "source": "X_train, X_test, y_train, y_test = train_test_split(X, y, test_size=0.3, random_state=0)",
   "id": "cb692251ce96247a",
   "outputs": [],
   "execution_count": 17
  },
  {
   "metadata": {
    "ExecuteTime": {
     "end_time": "2025-03-27T16:42:30.582636Z",
     "start_time": "2025-03-27T16:42:30.567007Z"
    }
   },
   "cell_type": "code",
   "source": "features, targets = X, y",
   "id": "27c76f41b15d662f",
   "outputs": [],
   "execution_count": 18
  },
  {
   "metadata": {
    "ExecuteTime": {
     "end_time": "2025-03-27T16:42:30.598259Z",
     "start_time": "2025-03-27T16:42:30.582636Z"
    }
   },
   "cell_type": "code",
   "source": "train_features, test_features, train_targets, test_targets = train_test_split(features, targets, train_size=0.7, test_size=0.3, random_state=23, stratify=targets)",
   "id": "cff59d879e014a25",
   "outputs": [],
   "execution_count": 19
  },
  {
   "metadata": {},
   "cell_type": "markdown",
   "source": "### Automatyczne porównanie skuteczności metod Cross Validation: k-fold, stratified i Monte Carlo (shuffle) w Logistic Regression, K-Nearest Neighbors, Support Vector Machines i Decision Tree models",
   "id": "ca89921627cc9c39"
  },
  {
   "metadata": {},
   "cell_type": "markdown",
   "source": "K-NN acc. Bez CV",
   "id": "e42b06399f536b99"
  },
  {
   "metadata": {
    "ExecuteTime": {
     "end_time": "2025-03-27T16:42:30.613861Z",
     "start_time": "2025-03-27T16:42:30.598259Z"
    }
   },
   "cell_type": "code",
   "source": [
    "classifier = KNeighborsClassifier()\n",
    "classifier.fit(train_features, train_targets)\n",
    "predicitons_targets = classifier.predict(test_features)\n",
    "print('Accuracy:', end=' ')\n",
    "print(np.sum(predicitons_targets == test_targets) / float(len(test_targets)))"
   ],
   "id": "4dad35c28dfcc4d8",
   "outputs": [
    {
     "name": "stdout",
     "output_type": "stream",
     "text": [
      "Accuracy: 0.8333333333333334\n"
     ]
    }
   ],
   "execution_count": 20
  },
  {
   "metadata": {},
   "cell_type": "markdown",
   "source": "K-NN Class. + CV",
   "id": "64843bfb66e173a9"
  },
  {
   "metadata": {
    "ExecuteTime": {
     "end_time": "2025-03-27T16:42:30.650163Z",
     "start_time": "2025-03-27T16:42:30.613861Z"
    }
   },
   "cell_type": "code",
   "source": [
    "scores = cross_val_score(classifier, features, targets, cv=3)\n",
    "print('Cross validation scores', scores)\n",
    "print('Mean score:', np.mean(scores))"
   ],
   "id": "b088845f7f60db39",
   "outputs": [
    {
     "name": "stdout",
     "output_type": "stream",
     "text": [
      "Cross validation scores [0.75  0.725 0.6  ]\n",
      "Mean score: 0.6916666666666668\n"
     ]
    }
   ],
   "execution_count": 21
  },
  {
   "metadata": {},
   "cell_type": "markdown",
   "source": "KFold (3)",
   "id": "d43b17f33b299c48"
  },
  {
   "metadata": {
    "ExecuteTime": {
     "end_time": "2025-03-27T16:42:30.681492Z",
     "start_time": "2025-03-27T16:42:30.650204Z"
    }
   },
   "cell_type": "code",
   "source": [
    "cv = KFold(n_splits=3, shuffle=True)\n",
    "scores = cross_val_score(classifier, features, targets, cv=cv)\n",
    "print('Cross validation scores', scores)\n",
    "print('Mean score:', np.mean(scores))"
   ],
   "id": "b351617a9acb9ea3",
   "outputs": [
    {
     "name": "stdout",
     "output_type": "stream",
     "text": [
      "Cross validation scores [0.875 0.825 0.825]\n",
      "Mean score: 0.8416666666666667\n"
     ]
    }
   ],
   "execution_count": 22
  },
  {
   "metadata": {},
   "cell_type": "markdown",
   "source": "Stratified (3)",
   "id": "faa6967a19a6ab35"
  },
  {
   "metadata": {
    "ExecuteTime": {
     "end_time": "2025-03-27T16:42:30.712739Z",
     "start_time": "2025-03-27T16:42:30.681492Z"
    }
   },
   "cell_type": "code",
   "source": [
    "cv = StratifiedKFold(n_splits=3, shuffle=True)\n",
    "scores = cross_val_score(classifier, features, targets, cv=cv)\n",
    "print('Cross validation scores', scores)\n",
    "print('Mean score:', np.mean(scores))"
   ],
   "id": "9c3dabe1802694f2",
   "outputs": [
    {
     "name": "stdout",
     "output_type": "stream",
     "text": [
      "Cross validation scores [0.9  0.8  0.85]\n",
      "Mean score: 0.8500000000000001\n"
     ]
    }
   ],
   "execution_count": 23
  },
  {
   "metadata": {},
   "cell_type": "markdown",
   "source": "Shuffle MC (3)",
   "id": "f262366d81813163"
  },
  {
   "metadata": {
    "ExecuteTime": {
     "end_time": "2025-03-27T16:42:30.752040Z",
     "start_time": "2025-03-27T16:42:30.712739Z"
    }
   },
   "cell_type": "code",
   "source": [
    "cv = ShuffleSplit(n_splits=3, test_size=0.3)\n",
    "scores = cross_val_score(classifier, features, targets, cv=cv)\n",
    "print('Cross validation scores', scores)\n",
    "print('Mean score:', np.mean(scores))"
   ],
   "id": "4f9c9d3526801447",
   "outputs": [
    {
     "name": "stdout",
     "output_type": "stream",
     "text": [
      "Cross validation scores [0.72222222 0.86111111 0.83333333]\n",
      "Mean score: 0.8055555555555557\n"
     ]
    }
   ],
   "execution_count": 24
  },
  {
   "metadata": {
    "ExecuteTime": {
     "end_time": "2025-03-27T16:42:30.767670Z",
     "start_time": "2025-03-27T16:42:30.752040Z"
    }
   },
   "cell_type": "code",
   "source": [
    "models = []\n",
    "models.append(('Logistic Regression', LogisticRegression()))\n",
    "models.append(('KNeighbotsClassifier', KNeighborsClassifier()))\n",
    "models.append(('SVC', SVC()))\n",
    "models.append(('DecisionTreeClassifier', DecisionTreeClassifier()))"
   ],
   "id": "308f1fb05bdd32c4",
   "outputs": [],
   "execution_count": 25
  },
  {
   "metadata": {},
   "cell_type": "markdown",
   "source": "Dla modelu K-NN (cv=3) najwyższy acc. score uzyskał Stratified.",
   "id": "fe12b984c0fa5885"
  },
  {
   "metadata": {},
   "cell_type": "markdown",
   "source": "KFold (5)",
   "id": "3f62d142274642f2"
  },
  {
   "metadata": {
    "ExecuteTime": {
     "end_time": "2025-03-27T16:42:30.852176Z",
     "start_time": "2025-03-27T16:42:30.767670Z"
    }
   },
   "cell_type": "code",
   "source": [
    "cv = KFold(n_splits=5, shuffle=True, random_state=23)\n",
    "for name, model in models:\n",
    "    score = cross_val_score(model, features, targets, cv=cv)\n",
    "    print('Model:{0}, Score: mean={1:0.5f}, var={2:0.5f}'.format(name, score.mean(), score.var()))"
   ],
   "id": "ed1b3b9dc4432d15",
   "outputs": [
    {
     "name": "stdout",
     "output_type": "stream",
     "text": [
      "Model:Logistic Regression, Score: mean=0.95833, var=0.00069\n",
      "Model:KNeighbotsClassifier, Score: mean=0.85000, var=0.00250\n",
      "Model:SVC, Score: mean=0.75833, var=0.00375\n",
      "Model:DecisionTreeClassifier, Score: mean=0.87500, var=0.00625\n"
     ]
    }
   ],
   "execution_count": 26
  },
  {
   "metadata": {},
   "cell_type": "markdown",
   "source": "Stratified (5)",
   "id": "235cc71c85cae783"
  },
  {
   "metadata": {
    "ExecuteTime": {
     "end_time": "2025-03-27T16:42:30.952336Z",
     "start_time": "2025-03-27T16:42:30.852176Z"
    }
   },
   "cell_type": "code",
   "source": [
    "cv = StratifiedKFold(n_splits=5, shuffle=True, random_state=23)\n",
    "for name, model in models:\n",
    "    score = cross_val_score(model, features, targets, cv=cv)\n",
    "    print('Model:{0}, Score: mean={1:0.5f}, var={2:0.5f}'.format(name, score.mean(), score.var())) "
   ],
   "id": "97a86c00dccae5b4",
   "outputs": [
    {
     "name": "stdout",
     "output_type": "stream",
     "text": [
      "Model:Logistic Regression, Score: mean=0.95000, var=0.00167\n",
      "Model:KNeighbotsClassifier, Score: mean=0.81667, var=0.00111\n",
      "Model:SVC, Score: mean=0.76667, var=0.00458\n",
      "Model:DecisionTreeClassifier, Score: mean=0.88333, var=0.00097\n"
     ]
    }
   ],
   "execution_count": 27
  },
  {
   "metadata": {},
   "cell_type": "markdown",
   "source": "Shuffle MC (5)",
   "id": "8b74a54ae2f64a18"
  },
  {
   "metadata": {
    "ExecuteTime": {
     "end_time": "2025-03-27T16:42:31.052432Z",
     "start_time": "2025-03-27T16:42:30.952487Z"
    }
   },
   "cell_type": "code",
   "source": [
    "cv = ShuffleSplit(n_splits=5, random_state=23)\n",
    "for name, model in models:\n",
    "    score = cross_val_score(model, features, targets, cv=cv)\n",
    "    print('Model:{0}, Score: mean={1:0.5f}, var={2:0.5f}'.format(name, score.mean(), score.var())) "
   ],
   "id": "6d1b28389db7729f",
   "outputs": [
    {
     "name": "stdout",
     "output_type": "stream",
     "text": [
      "Model:Logistic Regression, Score: mean=0.95000, var=0.00444\n",
      "Model:KNeighbotsClassifier, Score: mean=0.86667, var=0.00444\n",
      "Model:SVC, Score: mean=0.75000, var=0.00833\n",
      "Model:DecisionTreeClassifier, Score: mean=0.90000, var=0.00389\n"
     ]
    }
   ],
   "execution_count": 28
  },
  {
   "metadata": {},
   "cell_type": "markdown",
   "source": [
    "Dla modeli (cv=5) największe acc. score uzyskały kolejno:\n",
    "LR - KFold\n",
    "K-NN - Shuffle MC\n",
    "SVM - Stratified\n",
    "DT - Shuffle MC"
   ],
   "id": "59215318d0e5f3bb"
  },
  {
   "metadata": {},
   "cell_type": "markdown",
   "source": "### Cross validation of SVM kernels porównanie",
   "id": "9f3b56e0bfeebdbc"
  },
  {
   "metadata": {},
   "cell_type": "markdown",
   "source": "Linear",
   "id": "de39d7a66e4cd692"
  },
  {
   "metadata": {
    "ExecuteTime": {
     "end_time": "2025-03-27T16:47:05.300692Z",
     "start_time": "2025-03-27T16:47:05.269417Z"
    }
   },
   "cell_type": "code",
   "source": [
    "clf = SVC(kernel='linear', C=1, random_state=42).fit(X_train, y_train)\n",
    "clf.score(X_test, y_test)"
   ],
   "id": "8f542612d90d2095",
   "outputs": [
    {
     "data": {
      "text/plain": [
       "0.9444444444444444"
      ]
     },
     "execution_count": 29,
     "metadata": {},
     "output_type": "execute_result"
    }
   ],
   "execution_count": 29
  },
  {
   "metadata": {
    "ExecuteTime": {
     "end_time": "2025-03-27T16:47:05.939619Z",
     "start_time": "2025-03-27T16:47:05.908334Z"
    }
   },
   "cell_type": "code",
   "source": [
    "scores = cross_val_score(clf, X, y, cv=5)\n",
    "scores"
   ],
   "id": "77ce10f4ef417250",
   "outputs": [
    {
     "data": {
      "text/plain": [
       "array([0.83333333, 0.91666667, 0.91666667, 1.        , 0.95833333])"
      ]
     },
     "execution_count": 30,
     "metadata": {},
     "output_type": "execute_result"
    }
   ],
   "execution_count": 30
  },
  {
   "metadata": {
    "ExecuteTime": {
     "end_time": "2025-03-27T16:47:49.987706Z",
     "start_time": "2025-03-27T16:47:49.972026Z"
    }
   },
   "cell_type": "code",
   "source": "print('%0.4f accuracy with a standard deviation of %0.4f' % (scores.mean(), scores.std()))",
   "id": "776f07b61fbbdac9",
   "outputs": [
    {
     "name": "stdout",
     "output_type": "stream",
     "text": [
      "0.9250 accuracy with a standard deviation of 0.0553\n"
     ]
    }
   ],
   "execution_count": 31
  },
  {
   "metadata": {
    "ExecuteTime": {
     "end_time": "2025-03-27T16:48:14.834445Z",
     "start_time": "2025-03-27T16:48:14.802923Z"
    }
   },
   "cell_type": "code",
   "source": [
    "scores = cross_val_score(clf, X, y, cv=5, scoring='f1_macro')\n",
    "scores"
   ],
   "id": "bf0b4bf093228a03",
   "outputs": [
    {
     "data": {
      "text/plain": [
       "array([0.83216783, 0.91608392, 0.91666667, 1.        , 0.95826087])"
      ]
     },
     "execution_count": 32,
     "metadata": {},
     "output_type": "execute_result"
    }
   ],
   "execution_count": 32
  },
  {
   "metadata": {
    "ExecuteTime": {
     "end_time": "2025-03-27T16:48:33.540709Z",
     "start_time": "2025-03-27T16:48:33.509977Z"
    }
   },
   "cell_type": "code",
   "source": "print('%0.4f accuracy with a standard deviation of %0.4f' % (scores.mean(), scores.std()))",
   "id": "8b0b422c0a5da57b",
   "outputs": [
    {
     "name": "stdout",
     "output_type": "stream",
     "text": [
      "0.9246 accuracy with a standard deviation of 0.0557\n"
     ]
    }
   ],
   "execution_count": 33
  },
  {
   "metadata": {
    "ExecuteTime": {
     "end_time": "2025-03-27T16:50:04.748332Z",
     "start_time": "2025-03-27T16:50:04.717173Z"
    }
   },
   "cell_type": "code",
   "source": [
    "cv = ShuffleSplit(n_splits=5, test_size=0.3, random_state=0)\n",
    "scores = cross_val_score(clf, X, y, cv=cv)\n",
    "scores"
   ],
   "id": "55e1b8f18cb77a44",
   "outputs": [
    {
     "data": {
      "text/plain": [
       "array([0.94444444, 0.94444444, 0.91666667, 0.97222222, 0.97222222])"
      ]
     },
     "execution_count": 34,
     "metadata": {},
     "output_type": "execute_result"
    }
   ],
   "execution_count": 34
  },
  {
   "metadata": {
    "ExecuteTime": {
     "end_time": "2025-03-27T16:50:22.456824Z",
     "start_time": "2025-03-27T16:50:22.441169Z"
    }
   },
   "cell_type": "code",
   "source": "print('%0.4f accuracy with a standard deviation of %0.4f' % (scores.mean(), scores.std()))",
   "id": "9f2a0aa29a9caff4",
   "outputs": [
    {
     "name": "stdout",
     "output_type": "stream",
     "text": [
      "0.9500 accuracy with a standard deviation of 0.0208\n"
     ]
    }
   ],
   "execution_count": 35
  },
  {
   "metadata": {
    "ExecuteTime": {
     "end_time": "2025-03-27T16:51:27.502766Z",
     "start_time": "2025-03-27T16:51:27.471605Z"
    }
   },
   "cell_type": "code",
   "source": [
    "cv = StratifiedKFold(n_splits=5, shuffle=True, random_state=0)\n",
    "scores = cross_val_score(clf, X, y, cv=cv)\n",
    "scores"
   ],
   "id": "1a281f541b769ba4",
   "outputs": [
    {
     "data": {
      "text/plain": [
       "array([0.91666667, 0.91666667, 0.95833333, 0.91666667, 0.95833333])"
      ]
     },
     "execution_count": 37,
     "metadata": {},
     "output_type": "execute_result"
    }
   ],
   "execution_count": 37
  },
  {
   "metadata": {
    "ExecuteTime": {
     "end_time": "2025-03-27T16:51:29.756730Z",
     "start_time": "2025-03-27T16:51:29.741094Z"
    }
   },
   "cell_type": "code",
   "source": "print('%0.4f accuracy with a standard deviation of %0.4f' % (scores.mean(), scores.std()))",
   "id": "1890c9d0370b20f",
   "outputs": [
    {
     "name": "stdout",
     "output_type": "stream",
     "text": [
      "0.9333 accuracy with a standard deviation of 0.0204\n"
     ]
    }
   ],
   "execution_count": 38
  },
  {
   "metadata": {},
   "cell_type": "markdown",
   "source": "Poly",
   "id": "fd19f1ad6b7f6a6c"
  },
  {
   "metadata": {
    "ExecuteTime": {
     "end_time": "2025-03-27T17:10:11.215107Z",
     "start_time": "2025-03-27T17:10:11.199608Z"
    }
   },
   "cell_type": "code",
   "source": [
    "clf = SVC(kernel='poly', C=1, random_state=42).fit(X_train, y_train)\n",
    "clf.score(X_test, y_test)"
   ],
   "id": "2a9eb98a5f436623",
   "outputs": [
    {
     "data": {
      "text/plain": [
       "0.75"
      ]
     },
     "execution_count": 39,
     "metadata": {},
     "output_type": "execute_result"
    }
   ],
   "execution_count": 39
  },
  {
   "metadata": {
    "ExecuteTime": {
     "end_time": "2025-03-27T17:10:11.987077Z",
     "start_time": "2025-03-27T17:10:11.943267Z"
    }
   },
   "cell_type": "code",
   "source": [
    "scores = cross_val_score(clf, X, y, cv=5)\n",
    "scores"
   ],
   "id": "870db259eae67d00",
   "outputs": [
    {
     "data": {
      "text/plain": [
       "array([1.        , 0.79166667, 0.79166667, 0.66666667, 0.625     ])"
      ]
     },
     "execution_count": 40,
     "metadata": {},
     "output_type": "execute_result"
    }
   ],
   "execution_count": 40
  },
  {
   "metadata": {
    "ExecuteTime": {
     "end_time": "2025-03-27T17:10:12.434643Z",
     "start_time": "2025-03-27T17:10:12.419015Z"
    }
   },
   "cell_type": "code",
   "source": "print('%0.4f accuracy with a standard deviation of %0.4f' % (scores.mean(), scores.std()))",
   "id": "41b44a1f023d112a",
   "outputs": [
    {
     "name": "stdout",
     "output_type": "stream",
     "text": [
      "0.7750 accuracy with a standard deviation of 0.1307\n"
     ]
    }
   ],
   "execution_count": 41
  },
  {
   "metadata": {
    "ExecuteTime": {
     "end_time": "2025-03-27T17:10:12.843105Z",
     "start_time": "2025-03-27T17:10:12.811734Z"
    }
   },
   "cell_type": "code",
   "source": [
    "scores = cross_val_score(clf, X, y, cv=5, scoring='f1_macro')\n",
    "scores"
   ],
   "id": "c704185430736f0f",
   "outputs": [
    {
     "data": {
      "text/plain": [
       "array([1.        , 0.77229602, 0.78221416, 0.59663866, 0.56363636])"
      ]
     },
     "execution_count": 42,
     "metadata": {},
     "output_type": "execute_result"
    }
   ],
   "execution_count": 42
  },
  {
   "metadata": {
    "ExecuteTime": {
     "end_time": "2025-03-27T17:10:13.228743Z",
     "start_time": "2025-03-27T17:10:13.213059Z"
    }
   },
   "cell_type": "code",
   "source": "print('%0.4f accuracy with a standard deviation of %0.4f' % (scores.mean(), scores.std()))",
   "id": "18d51381cfef8480",
   "outputs": [
    {
     "name": "stdout",
     "output_type": "stream",
     "text": [
      "0.7430 accuracy with a standard deviation of 0.1562\n"
     ]
    }
   ],
   "execution_count": 43
  },
  {
   "metadata": {
    "ExecuteTime": {
     "end_time": "2025-03-27T17:10:13.605819Z",
     "start_time": "2025-03-27T17:10:13.558378Z"
    }
   },
   "cell_type": "code",
   "source": [
    "cv = ShuffleSplit(n_splits=5, test_size=0.3, random_state=0)\n",
    "scores = cross_val_score(clf, X, y, cv=cv)\n",
    "scores"
   ],
   "id": "e654c930dca52b01",
   "outputs": [
    {
     "data": {
      "text/plain": [
       "array([0.75      , 0.75      , 0.63888889, 0.77777778, 0.83333333])"
      ]
     },
     "execution_count": 44,
     "metadata": {},
     "output_type": "execute_result"
    }
   ],
   "execution_count": 44
  },
  {
   "metadata": {
    "ExecuteTime": {
     "end_time": "2025-03-27T17:10:13.890653Z",
     "start_time": "2025-03-27T17:10:13.874999Z"
    }
   },
   "cell_type": "code",
   "source": "print('%0.4f accuracy with a standard deviation of %0.4f' % (scores.mean(), scores.std()))",
   "id": "a7ad41253c92d66",
   "outputs": [
    {
     "name": "stdout",
     "output_type": "stream",
     "text": [
      "0.7500 accuracy with a standard deviation of 0.0633\n"
     ]
    }
   ],
   "execution_count": 45
  },
  {
   "metadata": {
    "ExecuteTime": {
     "end_time": "2025-03-27T17:10:14.237161Z",
     "start_time": "2025-03-27T17:10:14.191490Z"
    }
   },
   "cell_type": "code",
   "source": [
    "cv = StratifiedKFold(n_splits=5, shuffle=True, random_state=0)\n",
    "scores = cross_val_score(clf, X, y, cv=cv)\n",
    "scores"
   ],
   "id": "a6ee03236be5907b",
   "outputs": [
    {
     "data": {
      "text/plain": [
       "array([0.79166667, 0.70833333, 0.91666667, 0.79166667, 0.83333333])"
      ]
     },
     "execution_count": 46,
     "metadata": {},
     "output_type": "execute_result"
    }
   ],
   "execution_count": 46
  },
  {
   "metadata": {
    "ExecuteTime": {
     "end_time": "2025-03-27T17:10:14.638480Z",
     "start_time": "2025-03-27T17:10:14.622826Z"
    }
   },
   "cell_type": "code",
   "source": "print('%0.4f accuracy with a standard deviation of %0.4f' % (scores.mean(), scores.std()))",
   "id": "d56e3c39f78817f",
   "outputs": [
    {
     "name": "stdout",
     "output_type": "stream",
     "text": [
      "0.8083 accuracy with a standard deviation of 0.0677\n"
     ]
    }
   ],
   "execution_count": 47
  },
  {
   "metadata": {},
   "cell_type": "markdown",
   "source": "Radial",
   "id": "80cd6f1980a2771e"
  },
  {
   "metadata": {
    "ExecuteTime": {
     "end_time": "2025-03-27T17:10:31.793464Z",
     "start_time": "2025-03-27T17:10:31.777808Z"
    }
   },
   "cell_type": "code",
   "source": [
    "clf = SVC(kernel='rbf', C=1, random_state=42).fit(X_train, y_train)\n",
    "clf.score(X_test, y_test)"
   ],
   "id": "2ceee9e1f7e91576",
   "outputs": [
    {
     "data": {
      "text/plain": [
       "0.6944444444444444"
      ]
     },
     "execution_count": 51,
     "metadata": {},
     "output_type": "execute_result"
    }
   ],
   "execution_count": 51
  },
  {
   "metadata": {
    "ExecuteTime": {
     "end_time": "2025-03-27T17:10:32.338238Z",
     "start_time": "2025-03-27T17:10:32.306810Z"
    }
   },
   "cell_type": "code",
   "source": [
    "scores = cross_val_score(clf, X, y, cv=5)\n",
    "scores"
   ],
   "id": "126650df17b2262e",
   "outputs": [
    {
     "data": {
      "text/plain": [
       "array([1.        , 0.79166667, 0.75      , 0.625     , 0.625     ])"
      ]
     },
     "execution_count": 52,
     "metadata": {},
     "output_type": "execute_result"
    }
   ],
   "execution_count": 52
  },
  {
   "metadata": {
    "ExecuteTime": {
     "end_time": "2025-03-27T17:10:32.702335Z",
     "start_time": "2025-03-27T17:10:32.686706Z"
    }
   },
   "cell_type": "code",
   "source": "print('%0.4f accuracy with a standard deviation of %0.4f' % (scores.mean(), scores.std()))",
   "id": "a068450ca2edd51f",
   "outputs": [
    {
     "name": "stdout",
     "output_type": "stream",
     "text": [
      "0.7583 accuracy with a standard deviation of 0.1379\n"
     ]
    }
   ],
   "execution_count": 53
  },
  {
   "metadata": {
    "ExecuteTime": {
     "end_time": "2025-03-27T17:10:33.006001Z",
     "start_time": "2025-03-27T17:10:32.974724Z"
    }
   },
   "cell_type": "code",
   "source": [
    "scores = cross_val_score(clf, X, y, cv=5, scoring='f1_macro')\n",
    "scores"
   ],
   "id": "e823334e26b8bbd5",
   "outputs": [
    {
     "data": {
      "text/plain": [
       "array([1.        , 0.77229602, 0.74285714, 0.60798548, 0.56363636])"
      ]
     },
     "execution_count": 54,
     "metadata": {},
     "output_type": "execute_result"
    }
   ],
   "execution_count": 54
  },
  {
   "metadata": {
    "ExecuteTime": {
     "end_time": "2025-03-27T17:10:33.296741Z",
     "start_time": "2025-03-27T17:10:33.281139Z"
    }
   },
   "cell_type": "code",
   "source": "print('%0.4f accuracy with a standard deviation of %0.4f' % (scores.mean(), scores.std()))",
   "id": "61a7c3466223369a",
   "outputs": [
    {
     "name": "stdout",
     "output_type": "stream",
     "text": [
      "0.7374 accuracy with a standard deviation of 0.1531\n"
     ]
    }
   ],
   "execution_count": 55
  },
  {
   "metadata": {
    "ExecuteTime": {
     "end_time": "2025-03-27T17:10:33.564306Z",
     "start_time": "2025-03-27T17:10:33.533014Z"
    }
   },
   "cell_type": "code",
   "source": [
    "cv = ShuffleSplit(n_splits=5, test_size=0.3, random_state=0)\n",
    "scores = cross_val_score(clf, X, y, cv=cv)\n",
    "scores"
   ],
   "id": "90a6164f8eaf4ace",
   "outputs": [
    {
     "data": {
      "text/plain": [
       "array([0.69444444, 0.77777778, 0.58333333, 0.77777778, 0.77777778])"
      ]
     },
     "execution_count": 56,
     "metadata": {},
     "output_type": "execute_result"
    }
   ],
   "execution_count": 56
  },
  {
   "metadata": {
    "ExecuteTime": {
     "end_time": "2025-03-27T17:10:33.864897Z",
     "start_time": "2025-03-27T17:10:33.849240Z"
    }
   },
   "cell_type": "code",
   "source": "print('%0.4f accuracy with a standard deviation of %0.4f' % (scores.mean(), scores.std()))",
   "id": "b1fa4fb5de148c4e",
   "outputs": [
    {
     "name": "stdout",
     "output_type": "stream",
     "text": [
      "0.7222 accuracy with a standard deviation of 0.0766\n"
     ]
    }
   ],
   "execution_count": 57
  },
  {
   "metadata": {
    "ExecuteTime": {
     "end_time": "2025-03-27T17:10:34.125642Z",
     "start_time": "2025-03-27T17:10:34.078139Z"
    }
   },
   "cell_type": "code",
   "source": [
    "cv = StratifiedKFold(n_splits=5, shuffle=True, random_state=0)\n",
    "scores = cross_val_score(clf, X, y, cv=cv)\n",
    "scores"
   ],
   "id": "dae3b327b936cf7d",
   "outputs": [
    {
     "data": {
      "text/plain": [
       "array([0.75      , 0.625     , 0.875     , 0.79166667, 0.79166667])"
      ]
     },
     "execution_count": 58,
     "metadata": {},
     "output_type": "execute_result"
    }
   ],
   "execution_count": 58
  },
  {
   "metadata": {
    "ExecuteTime": {
     "end_time": "2025-03-27T17:10:34.341602Z",
     "start_time": "2025-03-27T17:10:34.325976Z"
    }
   },
   "cell_type": "code",
   "source": "print('%0.4f accuracy with a standard deviation of %0.4f' % (scores.mean(), scores.std()))",
   "id": "31e09791018a5633",
   "outputs": [
    {
     "name": "stdout",
     "output_type": "stream",
     "text": [
      "0.7667 accuracy with a standard deviation of 0.0816\n"
     ]
    }
   ],
   "execution_count": 59
  },
  {
   "metadata": {},
   "cell_type": "markdown",
   "source": "Sigmoid",
   "id": "9e026042c33b9361"
  },
  {
   "metadata": {
    "ExecuteTime": {
     "end_time": "2025-03-27T17:10:34.855845Z",
     "start_time": "2025-03-27T17:10:34.827041Z"
    }
   },
   "cell_type": "code",
   "source": [
    "clf = SVC(kernel='sigmoid', C=1, random_state=42).fit(X_train, y_train)\n",
    "clf.score(X_test, y_test)"
   ],
   "id": "31900fa5832811f7",
   "outputs": [
    {
     "data": {
      "text/plain": [
       "0.3055555555555556"
      ]
     },
     "execution_count": 60,
     "metadata": {},
     "output_type": "execute_result"
    }
   ],
   "execution_count": 60
  },
  {
   "metadata": {
    "ExecuteTime": {
     "end_time": "2025-03-27T17:10:35.157222Z",
     "start_time": "2025-03-27T17:10:35.125967Z"
    }
   },
   "cell_type": "code",
   "source": [
    "scores = cross_val_score(clf, X, y, cv=5)\n",
    "scores"
   ],
   "id": "5dca0ffe47e01364",
   "outputs": [
    {
     "data": {
      "text/plain": [
       "array([0.        , 0.20833333, 0.29166667, 0.375     , 0.5       ])"
      ]
     },
     "execution_count": 61,
     "metadata": {},
     "output_type": "execute_result"
    }
   ],
   "execution_count": 61
  },
  {
   "metadata": {
    "ExecuteTime": {
     "end_time": "2025-03-27T17:10:35.459398Z",
     "start_time": "2025-03-27T17:10:35.443772Z"
    }
   },
   "cell_type": "code",
   "source": "print('%0.4f accuracy with a standard deviation of %0.4f' % (scores.mean(), scores.std()))",
   "id": "71f77d6b66bbe10d",
   "outputs": [
    {
     "name": "stdout",
     "output_type": "stream",
     "text": [
      "0.2750 accuracy with a standard deviation of 0.1679\n"
     ]
    }
   ],
   "execution_count": 62
  },
  {
   "metadata": {
    "ExecuteTime": {
     "end_time": "2025-03-27T17:10:35.706754Z",
     "start_time": "2025-03-27T17:10:35.659450Z"
    }
   },
   "cell_type": "code",
   "source": [
    "scores = cross_val_score(clf, X, y, cv=5, scoring='f1_macro')\n",
    "scores"
   ],
   "id": "a7522e176284db6f",
   "outputs": [
    {
     "data": {
      "text/plain": [
       "array([0.        , 0.17241379, 0.29043478, 0.36507937, 0.33333333])"
      ]
     },
     "execution_count": 63,
     "metadata": {},
     "output_type": "execute_result"
    }
   ],
   "execution_count": 63
  },
  {
   "metadata": {
    "ExecuteTime": {
     "end_time": "2025-03-27T17:10:35.860079Z",
     "start_time": "2025-03-27T17:10:35.828866Z"
    }
   },
   "cell_type": "code",
   "source": "print('%0.4f accuracy with a standard deviation of %0.4f' % (scores.mean(), scores.std()))",
   "id": "54b3745bbe3199ac",
   "outputs": [
    {
     "name": "stdout",
     "output_type": "stream",
     "text": [
      "0.2323 accuracy with a standard deviation of 0.1332\n"
     ]
    }
   ],
   "execution_count": 64
  },
  {
   "metadata": {
    "ExecuteTime": {
     "end_time": "2025-03-27T17:10:36.104481Z",
     "start_time": "2025-03-27T17:10:36.073207Z"
    }
   },
   "cell_type": "code",
   "source": [
    "cv = ShuffleSplit(n_splits=5, test_size=0.3, random_state=0)\n",
    "scores = cross_val_score(clf, X, y, cv=cv)\n",
    "scores"
   ],
   "id": "9e7315f25278a714",
   "outputs": [
    {
     "data": {
      "text/plain": [
       "array([0.30555556, 0.33333333, 0.44444444, 0.30555556, 0.36111111])"
      ]
     },
     "execution_count": 65,
     "metadata": {},
     "output_type": "execute_result"
    }
   ],
   "execution_count": 65
  },
  {
   "metadata": {
    "ExecuteTime": {
     "end_time": "2025-03-27T17:10:36.276373Z",
     "start_time": "2025-03-27T17:10:36.260754Z"
    }
   },
   "cell_type": "code",
   "source": "print('%0.4f accuracy with a standard deviation of %0.4f' % (scores.mean(), scores.std()))",
   "id": "3a9a7888f5f8e9d7",
   "outputs": [
    {
     "name": "stdout",
     "output_type": "stream",
     "text": [
      "0.3500 accuracy with a standard deviation of 0.0515\n"
     ]
    }
   ],
   "execution_count": 66
  },
  {
   "metadata": {
    "ExecuteTime": {
     "end_time": "2025-03-27T17:10:36.630810Z",
     "start_time": "2025-03-27T17:10:36.576145Z"
    }
   },
   "cell_type": "code",
   "source": [
    "cv = StratifiedKFold(n_splits=5, shuffle=True, random_state=0)\n",
    "scores = cross_val_score(clf, X, y, cv=cv)\n",
    "scores"
   ],
   "id": "35ec8ff7a47b6052",
   "outputs": [
    {
     "data": {
      "text/plain": [
       "array([0.25      , 0.375     , 0.125     , 0.33333333, 0.33333333])"
      ]
     },
     "execution_count": 67,
     "metadata": {},
     "output_type": "execute_result"
    }
   ],
   "execution_count": 67
  },
  {
   "metadata": {
    "ExecuteTime": {
     "end_time": "2025-03-27T17:10:36.946412Z",
     "start_time": "2025-03-27T17:10:36.930836Z"
    }
   },
   "cell_type": "code",
   "source": "print('%0.4f accuracy with a standard deviation of %0.4f' % (scores.mean(), scores.std()))",
   "id": "3a9045f358eb24d1",
   "outputs": [
    {
     "name": "stdout",
     "output_type": "stream",
     "text": [
      "0.2833 accuracy with a standard deviation of 0.0890\n"
     ]
    }
   ],
   "execution_count": 68
  },
  {
   "metadata": {},
   "cell_type": "markdown",
   "source": [
    "Typy CV z najwyższym Acc. Score dla poszczególnych kernels:\n",
    "linear - ShuffleSplit\n",
    "poly - StratifiedKFold\n",
    "radial - StratifiedKFold\n",
    "sigmoid - ShuffleSplit"
   ],
   "id": "ac4c346e611f215a"
  }
 ],
 "metadata": {
  "kernelspec": {
   "display_name": "Python 3",
   "language": "python",
   "name": "python3"
  },
  "language_info": {
   "codemirror_mode": {
    "name": "ipython",
    "version": 2
   },
   "file_extension": ".py",
   "mimetype": "text/x-python",
   "name": "python",
   "nbconvert_exporter": "python",
   "pygments_lexer": "ipython2",
   "version": "2.7.6"
  }
 },
 "nbformat": 4,
 "nbformat_minor": 5
}
