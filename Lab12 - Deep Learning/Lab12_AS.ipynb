{
 "cells": [
  {
   "metadata": {},
   "cell_type": "markdown",
   "source": "# Importowanie niezbędnych bibliotek",
   "id": "470e321da4d1c81a"
  },
  {
   "cell_type": "code",
   "id": "initial_id",
   "metadata": {
    "collapsed": true,
    "ExecuteTime": {
     "end_time": "2025-05-22T15:47:16.980840Z",
     "start_time": "2025-05-22T15:47:16.833991Z"
    }
   },
   "source": [
    "import numpy as np\n",
    "import matplotlib.pyplot as plt\n",
    "import warnings\n",
    "from sklearn import linear_model\n",
    "from sklearn.model_selection import train_test_split\n",
    "\n",
    "warnings.filterwarnings('ignore')"
   ],
   "outputs": [],
   "execution_count": 1
  },
  {
   "metadata": {},
   "cell_type": "markdown",
   "source": "# Wczytanie danych, ustawienie rozmiaru obrazów na 64×64 i wyświetlenie przykładowych obrazów",
   "id": "41196b8a50130f4c"
  },
  {
   "metadata": {
    "ExecuteTime": {
     "end_time": "2025-05-22T15:47:17.119284Z",
     "start_time": "2025-05-22T15:47:16.980840Z"
    }
   },
   "cell_type": "code",
   "source": [
    "x_l = np.load('X.npy')\n",
    "y_l = np.load('Y.npy')\n",
    "img_size = 64\n",
    "plt.subplot(1, 2, 1)\n",
    "plt.imshow(x_l[260].reshape(img_size, img_size))\n",
    "plt.axis('off')\n",
    "plt.subplot(1, 2, 2)\n",
    "plt.imshow(x_l[900].reshape(img_size, img_size))\n",
    "plt.axis('off')"
   ],
   "id": "c4814450519a8bbd",
   "outputs": [
    {
     "data": {
      "text/plain": [
       "(np.float64(-0.5), np.float64(63.5), np.float64(63.5), np.float64(-0.5))"
      ]
     },
     "execution_count": 2,
     "metadata": {},
     "output_type": "execute_result"
    },
    {
     "data": {
      "text/plain": [
       "<Figure size 640x480 with 2 Axes>"
      ],
      "image/png": "[encoded data removed]"
     },
     "metadata": {},
     "output_type": "display_data"
    }
   ],
   "execution_count": 2
  },
  {
   "metadata": {},
   "cell_type": "markdown",
   "source": "# Połączenie wybranych zakresów obrazów w tablicę X, stworzenie wektora etykiet Y odpowiadającym klasom i wyświetlenie rozmiarów tablic",
   "id": "922e9763bfa06391"
  },
  {
   "metadata": {
    "ExecuteTime": {
     "end_time": "2025-05-22T15:47:17.142157Z",
     "start_time": "2025-05-22T15:47:17.123080Z"
    }
   },
   "cell_type": "code",
   "source": [
    "X = np.concatenate((x_l[204:409], x_l[822:1027]), axis=0)\n",
    "z = np.zeros(205)\n",
    "o = np.ones(205)\n",
    "Y = np.concatenate((z, o), axis=0).reshape(X.shape[0], 1)\n",
    "print('X shape:', X.shape)\n",
    "print('Y shape:', Y.shape)"
   ],
   "id": "9c0df1ca52852c81",
   "outputs": [
    {
     "name": "stdout",
     "output_type": "stream",
     "text": [
      "X shape: (410, 64, 64)\n",
      "Y shape: (410, 1)\n"
     ]
    }
   ],
   "execution_count": 3
  },
  {
   "metadata": {},
   "cell_type": "markdown",
   "source": "# Podzielenie danych na zestawy treningowy i testowy (15% test), spłaszczenie obrazów z wymiaru 64×64 do wektorów długości 4096 i wyświetlenie nowych rozmiarów tablic.",
   "id": "910c0be3bfa90ddc"
  },
  {
   "metadata": {
    "ExecuteTime": {
     "end_time": "2025-05-22T15:47:17.168169Z",
     "start_time": "2025-05-22T15:47:17.142157Z"
    }
   },
   "cell_type": "code",
   "source": [
    "X_train, X_test, Y_train, Y_test = train_test_split(X, Y, test_size=0.15, random_state=42)\n",
    "number_of_train = X_train.shape[0]\n",
    "number_of_test = X_test.shape[0]\n",
    "X_train_flatten = X_train.reshape(number_of_train, X_train.shape[1] * X_train.shape[2])\n",
    "X_test_flatten = X_test.reshape(number_of_test, X_test.shape[1] * X_test.shape[2])\n",
    "print('X_train flatten:', X_train_flatten.shape)\n",
    "print('X_test flatten:', X_test_flatten.shape)"
   ],
   "id": "6df18d9be43714ba",
   "outputs": [
    {
     "name": "stdout",
     "output_type": "stream",
     "text": [
      "X_train flatten: (348, 4096)\n",
      "X_test flatten: (62, 4096)\n"
     ]
    }
   ],
   "execution_count": 4
  },
  {
   "metadata": {},
   "cell_type": "markdown",
   "source": "# Transpozycja spłaszczonych danych, by kolumny odpowiadały próbom, i wyświetlenie rozmiarów tablic",
   "id": "9eae53b92775de8"
  },
  {
   "metadata": {
    "ExecuteTime": {
     "end_time": "2025-05-22T15:47:17.183795Z",
     "start_time": "2025-05-22T15:47:17.168169Z"
    }
   },
   "cell_type": "code",
   "source": [
    "x_train = X_train_flatten.T\n",
    "x_test = X_test_flatten.T\n",
    "y_train = Y_train.T\n",
    "y_test = Y_test.T\n",
    "print('x_train shape:', x_train.shape)\n",
    "print('x_test shape:', x_test.shape)\n",
    "print('y_train shape:', y_train.shape)\n",
    "print('y_test shape:', y_test.shape)"
   ],
   "id": "ac8aa000ce3992e4",
   "outputs": [
    {
     "name": "stdout",
     "output_type": "stream",
     "text": [
      "x_train shape: (4096, 348)\n",
      "x_test shape: (4096, 62)\n",
      "y_train shape: (1, 348)\n",
      "y_test shape: (1, 62)\n"
     ]
    }
   ],
   "execution_count": 5
  },
  {
   "metadata": {},
   "cell_type": "markdown",
   "source": "# Funkcja inicjalizującą wagę oraz bias",
   "id": "166cf1230a64206b"
  },
  {
   "metadata": {
    "ExecuteTime": {
     "end_time": "2025-05-22T15:47:17.199473Z",
     "start_time": "2025-05-22T15:47:17.183795Z"
    }
   },
   "cell_type": "code",
   "source": [
    "def initialize_weights_and_bias(dimension):\n",
    "    w = np.full((dimension, 1), 0.01)\n",
    "    b = 0.0\n",
    "    return w, b"
   ],
   "id": "52c73334e8877250",
   "outputs": [],
   "execution_count": 6
  },
  {
   "metadata": {},
   "cell_type": "markdown",
   "source": "# Funkcja sigmoidalna służąca jako funkcja aktywacji w regresji logistycznej",
   "id": "e19fe204771434c5"
  },
  {
   "metadata": {
    "ExecuteTime": {
     "end_time": "2025-05-22T15:47:17.219278Z",
     "start_time": "2025-05-22T15:47:17.199473Z"
    }
   },
   "cell_type": "code",
   "source": [
    "def sigmoid(z):\n",
    "    y_head = 1 / (1 + np.exp(-z))\n",
    "    return y_head"
   ],
   "id": "64f4ec773d4364a5",
   "outputs": [],
   "execution_count": 7
  },
  {
   "metadata": {},
   "cell_type": "markdown",
   "source": "# Funkcja obliczająca średni koszt w propagacji do przodu",
   "id": "255b28b96df42f70"
  },
  {
   "metadata": {
    "ExecuteTime": {
     "end_time": "2025-05-22T15:47:17.234909Z",
     "start_time": "2025-05-22T15:47:17.219278Z"
    }
   },
   "cell_type": "code",
   "source": [
    "def forward_propagation(w, b, x_train, y_train):\n",
    "    z = np.dot(w.T, x_train) + b\n",
    "    y_head = sigmoid(z)\n",
    "    loss = -y_train * np.log(y_head) - (1 - y_train) * np.log(1 - y_head)\n",
    "    cost = (np.sum(loss)) / x_train.shape[1]\n",
    "    return cost"
   ],
   "id": "8ad9af0a8a3bf920",
   "outputs": [],
   "execution_count": 8
  },
  {
   "metadata": {},
   "cell_type": "markdown",
   "source": "# Funkcja obliczająca średni koszt i gradienty wag i bias w propagacji do przodu i wstecznej",
   "id": "44a5608da9de8170"
  },
  {
   "metadata": {
    "ExecuteTime": {
     "end_time": "2025-05-22T15:47:17.250532Z",
     "start_time": "2025-05-22T15:47:17.234909Z"
    }
   },
   "cell_type": "code",
   "source": [
    "def forward_backward_propagation(w, b, x_train, y_train):\n",
    "    z = np.dot(w.T, x_train) + b\n",
    "    y_head = sigmoid(z)\n",
    "    loss = -y_train * np.log(y_head) - (1 - y_train) * np.log(1 - y_head)\n",
    "    cost = (np.sum(loss)) / x_train.shape[1]\n",
    "    \n",
    "    derivative_weight = (np.dot(x_train, (y_head - y_train).T)) / x_train.shape[1]\n",
    "    derivative_bias = np.sum(y_head - y_train) / x_train.shape[1]\n",
    "    gradients = {'derivative_weight': derivative_weight, 'derivative_bias': derivative_bias}\n",
    "    return cost, gradients"
   ],
   "id": "4f58f5e84a3b62f6",
   "outputs": [],
   "execution_count": 9
  },
  {
   "metadata": {},
   "cell_type": "markdown",
   "source": "# Aktualizacja wag i bias, wyświetlenie kosztu co 10 kroków i narysowanie wykresu spadku funkcji kosztu",
   "id": "d3cb4c51bce05300"
  },
  {
   "metadata": {
    "ExecuteTime": {
     "end_time": "2025-05-22T15:47:17.266162Z",
     "start_time": "2025-05-22T15:47:17.250532Z"
    }
   },
   "cell_type": "code",
   "source": [
    "def update(w, b, x_train, y_train, learning_rate, number_of_iterations):\n",
    "    cost_list = []\n",
    "    cost_list2 = []\n",
    "    index = []\n",
    "    \n",
    "    for i in range(number_of_iterations):\n",
    "        cost, gradients = forward_backward_propagation(w, b, x_train, y_train)\n",
    "        cost_list.append(cost)\n",
    "        w = w - learning_rate * gradients['derivative_weight']\n",
    "        b = b - learning_rate * gradients['derivative_bias']\n",
    "        if i % 10 == 0:\n",
    "            cost_list2.append(cost)\n",
    "            index.append(i)\n",
    "            print(f'Cost after iteration {i}: {cost}')\n",
    "    \n",
    "    parameters = {'weight': w, 'bias': b}\n",
    "    plt.plot(index, cost_list2)\n",
    "    plt.xticks(index, rotation='vertical')\n",
    "    plt.xlabel('Number of iterations')\n",
    "    plt.ylabel('Cost')\n",
    "    plt.show()\n",
    "    \n",
    "    return parameters, gradients, cost_list"
   ],
   "id": "3e7646b8008813b0",
   "outputs": [],
   "execution_count": 10
  },
  {
   "metadata": {},
   "cell_type": "markdown",
   "source": "# Obliczenie przewidywań i konwersja na etykiety 0 lub 1 na podstawie progu 0.5",
   "id": "1b8eaaffdf3a8386"
  },
  {
   "metadata": {
    "ExecuteTime": {
     "end_time": "2025-05-22T15:47:17.281779Z",
     "start_time": "2025-05-22T15:47:17.266162Z"
    }
   },
   "cell_type": "code",
   "source": [
    "def predict(w, b, x_test):\n",
    "    z = sigmoid(np.dot(w.T, x_test) + b)\n",
    "    Y_prediction = np.zeros((1, x_test.shape[1]))\n",
    "    for i in range(z.shape[1]):\n",
    "        if z[0, i] <= 0.5:\n",
    "            Y_prediction[0, i] = 0\n",
    "        else:\n",
    "            Y_prediction[0, i] = 1\n",
    "    return Y_prediction"
   ],
   "id": "78bee8816073b2c0",
   "outputs": [],
   "execution_count": 11
  },
  {
   "metadata": {},
   "cell_type": "markdown",
   "source": "# Funkcja regresji logistycznej bazująca na poprzednich funkcjach: inicjalizuje parametry, trenuje model, robi predykcje na zbiorach treningowym i testowym oraz wyświetla ich dokładności",
   "id": "59d4c1fa66eadaa0"
  },
  {
   "metadata": {
    "ExecuteTime": {
     "end_time": "2025-05-22T15:47:17.297421Z",
     "start_time": "2025-05-22T15:47:17.281779Z"
    }
   },
   "cell_type": "code",
   "source": [
    "def logistic_regression(x_train, y_train, x_test, y_test, learning_rate, number_of_iterations):\n",
    "    dimension = x_train.shape[0]\n",
    "    w, b = initialize_weights_and_bias(dimension)\n",
    "    parameters, gradients, cost_list = update(w, b, x_train, y_train, learning_rate, number_of_iterations)\n",
    "    y_prediction_test = predict(parameters['weight'], parameters['bias'], x_test)\n",
    "    y_prediction_train = predict(parameters['weight'], parameters['bias'], x_train)\n",
    "    print(f'train accuracy: {100 - np.mean(np.abs(y_prediction_train - y_train)) * 100} %')\n",
    "    print(f'test accuracy: {100 - np.mean(np.abs(y_prediction_test - y_test)) * 100} %')"
   ],
   "id": "c41fb68e9052790b",
   "outputs": [],
   "execution_count": 12
  },
  {
   "metadata": {},
   "cell_type": "markdown",
   "source": "# Inicjalizacja wag i bias dla wektora o wymiarze 4096",
   "id": "4cb59d8a174551ef"
  },
  {
   "metadata": {
    "ExecuteTime": {
     "end_time": "2025-05-22T15:47:17.319239Z",
     "start_time": "2025-05-22T15:47:17.297421Z"
    }
   },
   "cell_type": "code",
   "source": [
    "w, b = initialize_weights_and_bias(4096)\n",
    "y_head = sigmoid(0)\n",
    "y_head"
   ],
   "id": "ebc06e140909f27a",
   "outputs": [
    {
     "data": {
      "text/plain": [
       "np.float64(0.5)"
      ]
     },
     "execution_count": 13,
     "metadata": {},
     "output_type": "execute_result"
    }
   ],
   "execution_count": 13
  },
  {
   "metadata": {},
   "cell_type": "markdown",
   "source": "# Uruchomienie spadku gradientu zapisując zwrócone parametry",
   "id": "fc5861479685b00"
  },
  {
   "metadata": {
    "ExecuteTime": {
     "end_time": "2025-05-22T15:47:19.143857Z",
     "start_time": "2025-05-22T15:47:17.319239Z"
    }
   },
   "cell_type": "code",
   "source": "parameters, gradients, cost_list = update(w, b, x_train, y_train, learning_rate=0.009, number_of_iterations=200)",
   "id": "93c74289611d4704",
   "outputs": [
    {
     "name": "stdout",
     "output_type": "stream",
     "text": [
      "Cost after iteration 0: 14.014222401929988\n",
      "Cost after iteration 10: 1.918534888899188\n",
      "Cost after iteration 20: 1.7503649743452963\n",
      "Cost after iteration 30: 1.6535238227860236\n",
      "Cost after iteration 40: 1.560955975593817\n",
      "Cost after iteration 50: 1.4577445315300086\n",
      "Cost after iteration 60: 1.3354950822952356\n",
      "Cost after iteration 70: 1.191800023944936\n",
      "Cost after iteration 80: 1.0275108866404419\n",
      "Cost after iteration 90: 0.8430995927556605\n",
      "Cost after iteration 100: 0.6398899598449164\n",
      "Cost after iteration 110: 0.43259531532405293\n",
      "Cost after iteration 120: 0.27819155102645077\n",
      "Cost after iteration 130: 0.22160871009229446\n",
      "Cost after iteration 140: 0.20897225691268714\n",
      "Cost after iteration 150: 0.20341507561975858\n",
      "Cost after iteration 160: 0.1987537547331435\n",
      "Cost after iteration 170: 0.19444591698389077\n",
      "Cost after iteration 180: 0.1904327374402971\n",
      "Cost after iteration 190: 0.18668325341088549\n"
     ]
    },
    {
     "data": {
      "text/plain": [
       "<Figure size 640x480 with 1 Axes>"
      ],
      "image/png": "[encoded data removed]"
     },
     "metadata": {},
     "output_type": "display_data"
    }
   ],
   "execution_count": 14
  },
  {
   "metadata": {},
   "cell_type": "markdown",
   "source": "# Wywołanie funkcji przewidującej, by na podstawie wyuczonych parametrów obliczyć predykcje dla zbioru testowego",
   "id": "909490e235536537"
  },
  {
   "metadata": {
    "ExecuteTime": {
     "end_time": "2025-05-22T15:47:19.159483Z",
     "start_time": "2025-05-22T15:47:19.143857Z"
    }
   },
   "cell_type": "code",
   "source": "predict(parameters['weight'], parameters['bias'], x_test)",
   "id": "16955edf71b564ed",
   "outputs": [
    {
     "data": {
      "text/plain": [
       "array([[0., 0., 0., 0., 0., 0., 1., 1., 1., 1., 0., 1., 1., 1., 0., 0.,\n",
       "        1., 0., 0., 0., 1., 1., 0., 0., 0., 0., 1., 0., 0., 0., 1., 1.,\n",
       "        1., 0., 1., 0., 1., 1., 0., 1., 1., 1., 1., 1., 0., 1., 1., 1.,\n",
       "        0., 1., 0., 0., 0., 0., 0., 0., 0., 1., 0., 0., 0., 1.]])"
      ]
     },
     "execution_count": 15,
     "metadata": {},
     "output_type": "execute_result"
    }
   ],
   "execution_count": 15
  },
  {
   "metadata": {},
   "cell_type": "markdown",
   "source": "# Uruchomienie pełnego przebiegu funkcji regresji logistycznej",
   "id": "905f181b63d61949"
  },
  {
   "metadata": {
    "ExecuteTime": {
     "end_time": "2025-05-22T15:47:20.562377Z",
     "start_time": "2025-05-22T15:47:19.159483Z"
    }
   },
   "cell_type": "code",
   "source": "logistic_regression(x_train, y_train, x_test, y_test, learning_rate=0.01, number_of_iterations=150)",
   "id": "724d41ea34b1879f",
   "outputs": [
    {
     "name": "stdout",
     "output_type": "stream",
     "text": [
      "Cost after iteration 0: 14.014222401929988\n",
      "Cost after iteration 10: 2.5446893203484486\n",
      "Cost after iteration 20: 2.577950409665772\n",
      "Cost after iteration 30: 2.397998654969697\n",
      "Cost after iteration 40: 2.1850188570178917\n",
      "Cost after iteration 50: 1.968348142735899\n",
      "Cost after iteration 60: 1.7541952211039318\n",
      "Cost after iteration 70: 1.5350787865532223\n",
      "Cost after iteration 80: 1.2975667714608898\n",
      "Cost after iteration 90: 1.0319185565971347\n",
      "Cost after iteration 100: 0.7370191671189027\n",
      "Cost after iteration 110: 0.44135512752359\n",
      "Cost after iteration 120: 0.252277761809715\n",
      "Cost after iteration 130: 0.2051681344185774\n",
      "Cost after iteration 140: 0.19616756380442574\n"
     ]
    },
    {
     "data": {
      "text/plain": [
       "<Figure size 640x480 with 1 Axes>"
      ],
      "image/png": "[encoded data removed]"
     },
     "metadata": {},
     "output_type": "display_data"
    },
    {
     "name": "stdout",
     "output_type": "stream",
     "text": [
      "train accuracy: 92.816091954023 %\n",
      "test accuracy: 93.54838709677419 %\n"
     ]
    }
   ],
   "execution_count": 16
  },
  {
   "metadata": {},
   "cell_type": "markdown",
   "source": "# Porównanie implementacji własnej z gotową klasą LogisticRegression ze scikit-learn",
   "id": "40b462fff79fb23a"
  },
  {
   "metadata": {
    "ExecuteTime": {
     "end_time": "2025-05-22T15:47:20.693566Z",
     "start_time": "2025-05-22T15:47:20.562377Z"
    }
   },
   "cell_type": "code",
   "source": [
    "logreg = linear_model.LogisticRegression(random_state=42, max_iter=150)\n",
    "print(f'test accuracy: {logreg.fit(x_train.T, y_train.T).score(x_test.T, y_test.T)}')\n",
    "print(f'train accuracy: {logreg.fit(x_train.T, y_train.T).score(x_train.T, y_train.T)}')"
   ],
   "id": "f0c949cfed44555c",
   "outputs": [
    {
     "name": "stdout",
     "output_type": "stream",
     "text": [
      "test accuracy: 0.967741935483871\n",
      "train accuracy: 1.0\n"
     ]
    }
   ],
   "execution_count": 17
  }
 ],
 "metadata": {
  "kernelspec": {
   "display_name": "Python 3",
   "language": "python",
   "name": "python3"
  },
  "language_info": {
   "codemirror_mode": {
    "name": "ipython",
    "version": 2
   },
   "file_extension": ".py",
   "mimetype": "text/x-python",
   "name": "python",
   "nbconvert_exporter": "python",
   "pygments_lexer": "ipython2",
   "version": "2.7.6"
  }
 },
 "nbformat": 4,
 "nbformat_minor": 5
}
